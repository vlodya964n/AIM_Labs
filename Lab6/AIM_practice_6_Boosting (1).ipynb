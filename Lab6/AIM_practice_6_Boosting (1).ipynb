{
  "cells": [
    {
      "cell_type": "markdown",
      "id": "de1fc033",
      "metadata": {
        "id": "de1fc033"
      },
      "source": [
        "# 1. Dataset for emotion prediction"
      ]
    },
    {
      "cell_type": "code",
      "execution_count": null,
      "id": "1e907707",
      "metadata": {
        "id": "1e907707"
      },
      "outputs": [],
      "source": [
        "from sklearn.ensemble import AdaBoostClassifier\n",
        "from matplotlib import pyplot as plt\n",
        "from sklearn import datasets\n",
        "from sklearn.tree import DecisionTreeClassifier\n",
        "from sklearn.model_selection import train_test_split\n",
        "from sklearn import metrics"
      ]
    },
    {
      "cell_type": "markdown",
      "id": "547e3f29",
      "metadata": {
        "id": "547e3f29"
      },
      "source": [
        "'0': sadness\n",
        "               '1': joy\n",
        "               '2': love\n",
        "               '3': anger\n",
        "               '4': fear\n",
        "               '5': surprise"
      ]
    },
    {
      "cell_type": "code",
      "execution_count": null,
      "id": "58f444bb",
      "metadata": {
        "id": "58f444bb",
        "colab": {
          "base_uri": "https://localhost:8080/"
        },
        "collapsed": true,
        "outputId": "bb435378-1ba9-491b-d3ae-b4781cdb1992"
      },
      "outputs": [
        {
          "output_type": "stream",
          "name": "stdout",
          "text": [
            "Collecting datasets\n",
            "  Downloading datasets-3.2.0-py3-none-any.whl.metadata (20 kB)\n",
            "Requirement already satisfied: filelock in /usr/local/lib/python3.11/dist-packages (from datasets) (3.16.1)\n",
            "Requirement already satisfied: numpy>=1.17 in /usr/local/lib/python3.11/dist-packages (from datasets) (1.26.4)\n",
            "Requirement already satisfied: pyarrow>=15.0.0 in /usr/local/lib/python3.11/dist-packages (from datasets) (17.0.0)\n",
            "Collecting dill<0.3.9,>=0.3.0 (from datasets)\n",
            "  Downloading dill-0.3.8-py3-none-any.whl.metadata (10 kB)\n",
            "Requirement already satisfied: pandas in /usr/local/lib/python3.11/dist-packages (from datasets) (2.2.2)\n",
            "Requirement already satisfied: requests>=2.32.2 in /usr/local/lib/python3.11/dist-packages (from datasets) (2.32.3)\n",
            "Requirement already satisfied: tqdm>=4.66.3 in /usr/local/lib/python3.11/dist-packages (from datasets) (4.67.1)\n",
            "Collecting xxhash (from datasets)\n",
            "  Downloading xxhash-3.5.0-cp311-cp311-manylinux_2_17_x86_64.manylinux2014_x86_64.whl.metadata (12 kB)\n",
            "Collecting multiprocess<0.70.17 (from datasets)\n",
            "  Downloading multiprocess-0.70.16-py311-none-any.whl.metadata (7.2 kB)\n",
            "Collecting fsspec<=2024.9.0,>=2023.1.0 (from fsspec[http]<=2024.9.0,>=2023.1.0->datasets)\n",
            "  Downloading fsspec-2024.9.0-py3-none-any.whl.metadata (11 kB)\n",
            "Requirement already satisfied: aiohttp in /usr/local/lib/python3.11/dist-packages (from datasets) (3.11.11)\n",
            "Requirement already satisfied: huggingface-hub>=0.23.0 in /usr/local/lib/python3.11/dist-packages (from datasets) (0.27.1)\n",
            "Requirement already satisfied: packaging in /usr/local/lib/python3.11/dist-packages (from datasets) (24.2)\n",
            "Requirement already satisfied: pyyaml>=5.1 in /usr/local/lib/python3.11/dist-packages (from datasets) (6.0.2)\n",
            "Requirement already satisfied: aiohappyeyeballs>=2.3.0 in /usr/local/lib/python3.11/dist-packages (from aiohttp->datasets) (2.4.4)\n",
            "Requirement already satisfied: aiosignal>=1.1.2 in /usr/local/lib/python3.11/dist-packages (from aiohttp->datasets) (1.3.2)\n",
            "Requirement already satisfied: attrs>=17.3.0 in /usr/local/lib/python3.11/dist-packages (from aiohttp->datasets) (24.3.0)\n",
            "Requirement already satisfied: frozenlist>=1.1.1 in /usr/local/lib/python3.11/dist-packages (from aiohttp->datasets) (1.5.0)\n",
            "Requirement already satisfied: multidict<7.0,>=4.5 in /usr/local/lib/python3.11/dist-packages (from aiohttp->datasets) (6.1.0)\n",
            "Requirement already satisfied: propcache>=0.2.0 in /usr/local/lib/python3.11/dist-packages (from aiohttp->datasets) (0.2.1)\n",
            "Requirement already satisfied: yarl<2.0,>=1.17.0 in /usr/local/lib/python3.11/dist-packages (from aiohttp->datasets) (1.18.3)\n",
            "Requirement already satisfied: typing-extensions>=3.7.4.3 in /usr/local/lib/python3.11/dist-packages (from huggingface-hub>=0.23.0->datasets) (4.12.2)\n",
            "Requirement already satisfied: charset-normalizer<4,>=2 in /usr/local/lib/python3.11/dist-packages (from requests>=2.32.2->datasets) (3.4.1)\n",
            "Requirement already satisfied: idna<4,>=2.5 in /usr/local/lib/python3.11/dist-packages (from requests>=2.32.2->datasets) (3.10)\n",
            "Requirement already satisfied: urllib3<3,>=1.21.1 in /usr/local/lib/python3.11/dist-packages (from requests>=2.32.2->datasets) (2.3.0)\n",
            "Requirement already satisfied: certifi>=2017.4.17 in /usr/local/lib/python3.11/dist-packages (from requests>=2.32.2->datasets) (2024.12.14)\n",
            "Requirement already satisfied: python-dateutil>=2.8.2 in /usr/local/lib/python3.11/dist-packages (from pandas->datasets) (2.8.2)\n",
            "Requirement already satisfied: pytz>=2020.1 in /usr/local/lib/python3.11/dist-packages (from pandas->datasets) (2024.2)\n",
            "Requirement already satisfied: tzdata>=2022.7 in /usr/local/lib/python3.11/dist-packages (from pandas->datasets) (2024.2)\n",
            "Requirement already satisfied: six>=1.5 in /usr/local/lib/python3.11/dist-packages (from python-dateutil>=2.8.2->pandas->datasets) (1.17.0)\n",
            "Downloading datasets-3.2.0-py3-none-any.whl (480 kB)\n",
            "\u001b[2K   \u001b[90m━━━━━━━━━━━━━━━━━━━━━━━━━━━━━━━━━━━━━━━━\u001b[0m \u001b[32m480.6/480.6 kB\u001b[0m \u001b[31m10.2 MB/s\u001b[0m eta \u001b[36m0:00:00\u001b[0m\n",
            "\u001b[?25hDownloading dill-0.3.8-py3-none-any.whl (116 kB)\n",
            "\u001b[2K   \u001b[90m━━━━━━━━━━━━━━━━━━━━━━━━━━━━━━━━━━━━━━━━\u001b[0m \u001b[32m116.3/116.3 kB\u001b[0m \u001b[31m9.1 MB/s\u001b[0m eta \u001b[36m0:00:00\u001b[0m\n",
            "\u001b[?25hDownloading fsspec-2024.9.0-py3-none-any.whl (179 kB)\n",
            "\u001b[2K   \u001b[90m━━━━━━━━━━━━━━━━━━━━━━━━━━━━━━━━━━━━━━━━\u001b[0m \u001b[32m179.3/179.3 kB\u001b[0m \u001b[31m14.1 MB/s\u001b[0m eta \u001b[36m0:00:00\u001b[0m\n",
            "\u001b[?25hDownloading multiprocess-0.70.16-py311-none-any.whl (143 kB)\n",
            "\u001b[2K   \u001b[90m━━━━━━━━━━━━━━━━━━━━━━━━━━━━━━━━━━━━━━━━\u001b[0m \u001b[32m143.5/143.5 kB\u001b[0m \u001b[31m10.2 MB/s\u001b[0m eta \u001b[36m0:00:00\u001b[0m\n",
            "\u001b[?25hDownloading xxhash-3.5.0-cp311-cp311-manylinux_2_17_x86_64.manylinux2014_x86_64.whl (194 kB)\n",
            "\u001b[2K   \u001b[90m━━━━━━━━━━━━━━━━━━━━━━━━━━━━━━━━━━━━━━━━\u001b[0m \u001b[32m194.8/194.8 kB\u001b[0m \u001b[31m13.7 MB/s\u001b[0m eta \u001b[36m0:00:00\u001b[0m\n",
            "\u001b[?25hInstalling collected packages: xxhash, fsspec, dill, multiprocess, datasets\n",
            "  Attempting uninstall: fsspec\n",
            "    Found existing installation: fsspec 2024.10.0\n",
            "    Uninstalling fsspec-2024.10.0:\n",
            "      Successfully uninstalled fsspec-2024.10.0\n",
            "\u001b[31mERROR: pip's dependency resolver does not currently take into account all the packages that are installed. This behaviour is the source of the following dependency conflicts.\n",
            "gcsfs 2024.10.0 requires fsspec==2024.10.0, but you have fsspec 2024.9.0 which is incompatible.\u001b[0m\u001b[31m\n",
            "\u001b[0mSuccessfully installed datasets-3.2.0 dill-0.3.8 fsspec-2024.9.0 multiprocess-0.70.16 xxhash-3.5.0\n"
          ]
        }
      ],
      "source": [
        "!pip install datasets"
      ]
    },
    {
      "cell_type": "code",
      "source": [
        "from google.colab import drive\n",
        "drive.mount('/content/drive')"
      ],
      "metadata": {
        "colab": {
          "base_uri": "https://localhost:8080/"
        },
        "id": "tiYXBlNUZTB5",
        "outputId": "0210bf67-07cc-4400-f4e3-f7a583fd421f"
      },
      "id": "tiYXBlNUZTB5",
      "execution_count": null,
      "outputs": [
        {
          "output_type": "stream",
          "name": "stdout",
          "text": [
            "Mounted at /content/drive\n"
          ]
        }
      ]
    },
    {
      "cell_type": "code",
      "execution_count": null,
      "id": "9636b87a",
      "metadata": {
        "id": "9636b87a",
        "colab": {
          "base_uri": "https://localhost:8080/",
          "height": 81,
          "referenced_widgets": [
            "69c81713d39a46439cf617cbaafe297f",
            "e2f54c48dd614cf080f1087cb0236897",
            "3e2a045987794c58946b5a815127d3ec",
            "5cdcc4a734894a128c035975295bd712",
            "0dc02c290c464c8faf587cc46e59aa4b",
            "1c6a720ecc1d4cfb83e616dccf3f1a5f",
            "574e58efa1024bafa44ef0959f5f86b0",
            "1ba0bbe99630466b9c8a3414ddda0202",
            "eaa36fe51d91407ea47597209b7a2979",
            "1fc6e1dc03f8443b812c1bf0b38807de",
            "a636aca705f44a10833686ac58bf9a6c",
            "274ceea1158d46fca33def81f12ba6a3",
            "e5faaef9b4dc4754bc1f347128bef829",
            "2cc7df9e740c44cb982dc6555e068147",
            "92586ac3cd034aad93cd99fdcf89531a",
            "c6bd526d62fb4578a093c668fd43f891",
            "59a1f66779e042c894cb0c1f99afe169",
            "c9e3b9d7bc65479d923004077603f74e",
            "2a1ef355af194747ba2bfaa52a345a41",
            "6a497ee9dc3445a78eb44ab22cc83b83",
            "7b6261f242f2401fb0907095ad15e3ab",
            "c6b5de991d224f73b38567d3b76b4a2a"
          ]
        },
        "outputId": "619a39db-a3d5-49df-ca7e-0ba3b4960068"
      },
      "outputs": [
        {
          "output_type": "display_data",
          "data": {
            "text/plain": [
              "Generating train split: 0 examples [00:00, ? examples/s]"
            ],
            "application/vnd.jupyter.widget-view+json": {
              "version_major": 2,
              "version_minor": 0,
              "model_id": "69c81713d39a46439cf617cbaafe297f"
            }
          },
          "metadata": {}
        },
        {
          "output_type": "display_data",
          "data": {
            "text/plain": [
              "Generating test split: 0 examples [00:00, ? examples/s]"
            ],
            "application/vnd.jupyter.widget-view+json": {
              "version_major": 2,
              "version_minor": 0,
              "model_id": "274ceea1158d46fca33def81f12ba6a3"
            }
          },
          "metadata": {}
        }
      ],
      "source": [
        "from datasets import load_dataset\n",
        "dataset = load_dataset('json', data_files={\n",
        "    'train': '/content/drive/MyDrive/AIM_WORK/Lab6/train.jsonl',\n",
        "    'test':'/content/drive/MyDrive/AIM_WORK/Lab6/validation.jsonl'})"
      ]
    },
    {
      "cell_type": "code",
      "execution_count": null,
      "id": "b0133135",
      "metadata": {
        "id": "b0133135",
        "outputId": "71169e29-be83-440b-f292-d77b5d464fa3",
        "colab": {
          "base_uri": "https://localhost:8080/"
        }
      },
      "outputs": [
        {
          "output_type": "execute_result",
          "data": {
            "text/plain": [
              "DatasetDict({\n",
              "    train: Dataset({\n",
              "        features: ['text', 'label'],\n",
              "        num_rows: 16000\n",
              "    })\n",
              "    test: Dataset({\n",
              "        features: ['text', 'label'],\n",
              "        num_rows: 2000\n",
              "    })\n",
              "})"
            ]
          },
          "metadata": {},
          "execution_count": 5
        }
      ],
      "source": [
        "dataset"
      ]
    },
    {
      "cell_type": "code",
      "execution_count": null,
      "id": "c42ed7ae",
      "metadata": {
        "id": "c42ed7ae",
        "colab": {
          "base_uri": "https://localhost:8080/"
        },
        "outputId": "50e05b0f-7745-42f4-e19f-4045f59dcd37"
      },
      "outputs": [
        {
          "output_type": "stream",
          "name": "stdout",
          "text": [
            "/bin/bash: line 1: py: command not found\n"
          ]
        }
      ],
      "source": [
        "!py -m pip install nltk"
      ]
    },
    {
      "cell_type": "code",
      "execution_count": null,
      "id": "f8607f81",
      "metadata": {
        "id": "f8607f81",
        "outputId": "4af81104-9a73-4836-bdac-3dd07dbcc8f9",
        "colab": {
          "base_uri": "https://localhost:8080/"
        }
      },
      "outputs": [
        {
          "output_type": "stream",
          "name": "stderr",
          "text": [
            "[nltk_data] Downloading package stopwords to /root/nltk_data...\n",
            "[nltk_data]   Unzipping corpora/stopwords.zip.\n"
          ]
        }
      ],
      "source": [
        "from sklearn.feature_extraction.text import CountVectorizer\n",
        "import nltk\n",
        "from nltk.corpus import stopwords\n",
        "nltk.download('stopwords')\n",
        "\n",
        "vectorizer = CountVectorizer(max_features=500, min_df=4, max_df=0.7, stop_words=stopwords.words('english'))\n",
        "X_train_vec = vectorizer.fit_transform(dataset['train']['text'])"
      ]
    },
    {
      "cell_type": "code",
      "execution_count": null,
      "id": "fdccbe5e",
      "metadata": {
        "id": "fdccbe5e",
        "outputId": "b0d2a4bc-7125-4c45-c7b1-9984b1ba3e2b",
        "colab": {
          "base_uri": "https://localhost:8080/"
        },
        "collapsed": true
      },
      "outputs": [
        {
          "output_type": "execute_result",
          "data": {
            "text/plain": [
              "array(['able', 'absolutely', 'accepted', 'aching', 'actually', 'admit',\n",
              "       'afraid', 'agitated', 'ago', 'almost', 'alone', 'already', 'also',\n",
              "       'always', 'amazed', 'amazing', 'amp', 'angry', 'annoyed',\n",
              "       'another', 'anxious', 'anymore', 'anyone', 'anything',\n",
              "       'apprehensive', 'around', 'ashamed', 'ask', 'asked', 'assured',\n",
              "       'away', 'awful', 'awkward', 'baby', 'back', 'bad', 'beaten',\n",
              "       'beautiful', 'become', 'bed', 'began', 'believe', 'beloved',\n",
              "       'best', 'better', 'big', 'bit', 'blank', 'blessed', 'blog', 'body',\n",
              "       'book', 'books', 'bothered', 'brave', 'burdened', 'call', 'calm',\n",
              "       'came', 'cannot', 'cant', 'care', 'caring', 'cause', 'certain',\n",
              "       'change', 'child', 'children', 'class', 'close', 'cold', 'come',\n",
              "       'comes', 'comfortable', 'coming', 'completely', 'confident',\n",
              "       'confused', 'content', 'control', 'convinced', 'cool', 'could',\n",
              "       'couldnt', 'cranky', 'creative', 'curious', 'cute', 'dangerous',\n",
              "       'day', 'days', 'decided', 'depressed', 'determined', 'devastated',\n",
              "       'didnt', 'different', 'dirty', 'disappointed', 'discouraged',\n",
              "       'divine', 'doesnt', 'done', 'dont', 'dull', 'eat', 'either',\n",
              "       'else', 'embarrassed', 'emotional', 'empty', 'end', 'energy',\n",
              "       'enjoy', 'enough', 'especially', 'even', 'ever', 'every',\n",
              "       'everyone', 'everything', 'excited', 'exhausted', 'experience',\n",
              "       'extremely', 'eyes', 'face', 'fact', 'family', 'far', 'feel',\n",
              "       'feeling', 'feelings', 'feels', 'felt', 'finally', 'find', 'fine',\n",
              "       'first', 'food', 'found', 'free', 'friend', 'friends',\n",
              "       'frustrated', 'fucked', 'full', 'fun', 'funny', 'future',\n",
              "       'generous', 'get', 'getting', 'girl', 'give', 'giving', 'glad',\n",
              "       'gloomy', 'go', 'god', 'going', 'gone', 'good', 'gorgeous', 'got',\n",
              "       'great', 'greedy', 'groggy', 'guess', 'guilty', 'guy', 'hair',\n",
              "       'hand', 'happen', 'happened', 'happy', 'hard', 'hate', 'hated',\n",
              "       'havent', 'head', 'hear', 'heart', 'help', 'helpless', 'hes',\n",
              "       'home', 'homesick', 'honestly', 'honored', 'hope', 'hopeful',\n",
              "       'hopeless', 'horrible', 'hot', 'hours', 'house', 'however', 'href',\n",
              "       'http', 'hurt', 'husband', 'id', 'idea', 'ill', 'im', 'important',\n",
              "       'impressed', 'incredibly', 'innocent', 'insecure', 'inside',\n",
              "       'inspired', 'instead', 'insulted', 'irritable', 'irritated',\n",
              "       'isolated', 'ive', 'jealous', 'job', 'joyful', 'keep', 'kids',\n",
              "       'kind', 'kinda', 'knew', 'know', 'knowing', 'last', 'lately',\n",
              "       'least', 'leave', 'left', 'less', 'let', 'lethargic', 'life',\n",
              "       'like', 'liked', 'little', 'live', 'living', 'lonely', 'long',\n",
              "       'longer', 'look', 'looking', 'lost', 'lot', 'love', 'loved',\n",
              "       'lovely', 'loving', 'low', 'lucky', 'mad', 'made', 'make', 'makes',\n",
              "       'making', 'man', 'many', 'matter', 'may', 'maybe', 'mean',\n",
              "       'melancholy', 'might', 'mind', 'mine', 'miserable', 'miss',\n",
              "       'missed', 'mom', 'moment', 'money', 'months', 'morning', 'mother',\n",
              "       'move', 'much', 'music', 'must', 'need', 'needed', 'nervous',\n",
              "       'never', 'new', 'next', 'nice', 'night', 'nothing', 'numb',\n",
              "       'offended', 'often', 'ok', 'old', 'one', 'open', 'optimistic',\n",
              "       'others', 'overwhelmed', 'pain', 'paranoid', 'parents', 'part',\n",
              "       'particularly', 'passionate', 'past', 'pathetic', 'people',\n",
              "       'perfect', 'person', 'pissed', 'place', 'pleasant', 'point',\n",
              "       'popular', 'positive', 'post', 'precious', 'pressured', 'pretty',\n",
              "       'probably', 'proud', 'punished', 'put', 'quite', 'rather', 'read',\n",
              "       'reading', 'ready', 'real', 'really', 'reason', 'rejected',\n",
              "       'relaxed', 'reluctant', 'remember', 'resentful', 'respected',\n",
              "       'rest', 'rich', 'right', 'room', 'rude', 'run', 'running',\n",
              "       'rushed', 'sad', 'safe', 'said', 'satisfied', 'say', 'saying',\n",
              "       'scared', 'school', 'see', 'seeing', 'seem', 'seems', 'self',\n",
              "       'selfish', 'sense', 'set', 'shaken', 'share', 'shitty', 'show',\n",
              "       'sick', 'side', 'simply', 'since', 'sit', 'sitting', 'situation',\n",
              "       'sleep', 'slightly', 'small', 'somehow', 'someone', 'something',\n",
              "       'sometimes', 'somewhat', 'soon', 'sorry', 'sort', 'special',\n",
              "       'spent', 'start', 'started', 'starting', 'stay', 'still', 'stop',\n",
              "       'story', 'strange', 'stressed', 'strong', 'stuff', 'stupid',\n",
              "       'successful', 'super', 'support', 'supporting', 'sure',\n",
              "       'surprised', 'sweet', 'sympathetic', 'take', 'taking', 'talented',\n",
              "       'talk', 'talking', 'tell', 'terrible', 'terrified', 'thankful',\n",
              "       'thats', 'theres', 'thing', 'things', 'think', 'thinking',\n",
              "       'though', 'thought', 'thoughts', 'time', 'times', 'tired', 'today',\n",
              "       'together', 'told', 'tonight', 'took', 'tortured', 'totally',\n",
              "       'towards', 'truly', 'try', 'trying', 'turn', 'two', 'ugly',\n",
              "       'uncertain', 'uncomfortable', 'understand', 'unhappy', 'unsure',\n",
              "       'unwelcome', 'us', 'use', 'used', 'useful', 'useless', 'usually',\n",
              "       'valuable', 'valued', 'violent', 'vulnerable', 'wake', 'walk',\n",
              "       'want', 'wanted', 'wanting', 'wasnt', 'watch', 'watching', 'way',\n",
              "       'ways', 'wear', 'week', 'weeks', 'weird', 'well', 'went',\n",
              "       'whether', 'whole', 'wish', 'without', 'woke', 'woman', 'women',\n",
              "       'wonder', 'wonderful', 'wont', 'words', 'work', 'working', 'world',\n",
              "       'would', 'write', 'writing', 'wrong', 'wronged', 'year', 'years',\n",
              "       'yet', 'youre'], dtype=object)"
            ]
          },
          "metadata": {},
          "execution_count": 8
        }
      ],
      "source": [
        "vectorizer.get_feature_names_out()"
      ]
    },
    {
      "cell_type": "code",
      "execution_count": null,
      "id": "86820a6e",
      "metadata": {
        "id": "86820a6e",
        "outputId": "6ccf68ed-09be-45ef-c227-5ce702d5bb6d",
        "colab": {
          "base_uri": "https://localhost:8080/"
        },
        "collapsed": true
      },
      "outputs": [
        {
          "output_type": "execute_result",
          "data": {
            "text/plain": [
              "array([[0, 0, 0, 0, 0, 0, 0, 0, 0, 0, 0, 0, 0, 0, 0, 0, 0, 0, 0, 0, 0, 0,\n",
              "        0, 0, 0, 0, 0, 0, 0, 0, 0, 0, 0, 0, 0, 0, 0, 0, 0, 0, 0, 0, 0, 0,\n",
              "        0, 0, 0, 0, 0, 0, 0, 0, 0, 0, 0, 0, 0, 0, 0, 0, 0, 0, 0, 0, 0, 0,\n",
              "        0, 0, 0, 0, 0, 0, 0, 0, 0, 0, 0, 0, 0, 0, 0, 0, 0, 0, 0, 0, 0, 0,\n",
              "        0, 0, 0, 0, 0, 0, 0, 1, 0, 0, 0, 0, 0, 0, 0, 0, 0, 0, 0, 0, 0, 0,\n",
              "        0, 0, 0, 0, 0, 0, 0, 0, 0, 0, 0, 0, 0, 0, 0, 0, 0, 0, 0, 0, 1, 0,\n",
              "        0, 0, 0, 0, 0, 0, 0, 0, 0, 0, 0, 0, 0, 0, 0, 0, 0, 0, 0, 0, 0, 0,\n",
              "        0, 0, 0, 0, 0, 0, 0, 0, 0, 0, 0, 0, 0, 0, 0, 0, 0, 0, 0, 0, 0, 0,\n",
              "        0, 0, 0, 0, 0, 0, 0, 0, 0, 0, 0, 0, 0, 0, 0, 0, 0, 0, 0, 0, 0, 0,\n",
              "        0, 0, 0, 0, 0, 0, 0, 0, 0, 0, 0, 0, 0, 0, 0, 0, 0, 0, 0, 0, 0, 0,\n",
              "        0, 0, 0, 0, 0, 0, 0, 0, 0, 0, 0, 0, 0, 0, 0, 0, 0, 0, 0, 0, 0, 0,\n",
              "        0, 0, 0, 0, 0, 0, 0, 0, 0, 0, 0, 0, 0, 0, 0, 0, 0, 0, 0, 0, 0, 0,\n",
              "        0, 0, 0, 0, 0, 0, 0, 0, 0, 0, 0, 0, 0, 0, 0, 0, 0, 0, 0, 0, 0, 0,\n",
              "        0, 0, 0, 0, 0, 0, 0, 0, 0, 0, 0, 0, 0, 0, 0, 0, 0, 0, 0, 0, 0, 0,\n",
              "        0, 0, 0, 0, 0, 0, 0, 0, 0, 0, 0, 0, 0, 0, 0, 0, 0, 0, 0, 0, 0, 0,\n",
              "        0, 0, 0, 0, 0, 0, 0, 0, 0, 0, 0, 0, 0, 0, 0, 0, 0, 0, 0, 0, 0, 0,\n",
              "        0, 0, 0, 0, 0, 0, 0, 0, 0, 0, 0, 0, 0, 0, 0, 0, 0, 0, 0, 0, 0, 0,\n",
              "        0, 0, 0, 0, 0, 0, 0, 0, 0, 0, 0, 0, 0, 0, 0, 0, 0, 0, 0, 0, 0, 0,\n",
              "        0, 0, 0, 0, 0, 0, 0, 0, 0, 0, 0, 0, 0, 0, 0, 0, 0, 0, 0, 0, 0, 0,\n",
              "        0, 0, 0, 0, 0, 0, 0, 0, 0, 0, 0, 0, 0, 0, 0, 0, 0, 0, 0, 0, 0, 0,\n",
              "        0, 0, 0, 0, 0, 0, 0, 0, 0, 0, 0, 0, 0, 0, 0, 0, 0, 0, 0, 0, 0, 0,\n",
              "        0, 0, 0, 0, 0, 0, 0, 0, 0, 0, 0, 0, 0, 0, 0, 0, 0, 0, 0, 0, 0, 0,\n",
              "        0, 0, 0, 0, 0, 0, 0, 0, 0, 0, 0, 0, 0, 0, 0, 0]])"
            ]
          },
          "metadata": {},
          "execution_count": 9
        }
      ],
      "source": [
        "X_train_vec[:1].toarray()"
      ]
    },
    {
      "cell_type": "code",
      "execution_count": null,
      "id": "ca2a740c",
      "metadata": {
        "id": "ca2a740c",
        "outputId": "f86f854f-a285-4102-a89b-d57327668883",
        "colab": {
          "base_uri": "https://localhost:8080/"
        }
      },
      "outputs": [
        {
          "output_type": "execute_result",
          "data": {
            "text/plain": [
              "2"
            ]
          },
          "metadata": {},
          "execution_count": 10
        }
      ],
      "source": [
        "X_train_vec[:1].toarray().sum()"
      ]
    },
    {
      "cell_type": "code",
      "execution_count": null,
      "id": "8f5e7f38",
      "metadata": {
        "id": "8f5e7f38",
        "outputId": "7f896f10-e04c-45f7-b0f9-b603321725bd",
        "colab": {
          "base_uri": "https://localhost:8080/"
        }
      },
      "outputs": [
        {
          "output_type": "execute_result",
          "data": {
            "text/plain": [
              "['i didnt feel humiliated']"
            ]
          },
          "metadata": {},
          "execution_count": 11
        }
      ],
      "source": [
        "dataset['train']['text'][:1]"
      ]
    },
    {
      "cell_type": "code",
      "execution_count": null,
      "id": "9c6b3c8a",
      "metadata": {
        "id": "9c6b3c8a"
      },
      "outputs": [],
      "source": [
        "vocabulary = vectorizer.get_feature_names_out()"
      ]
    },
    {
      "cell_type": "code",
      "execution_count": null,
      "id": "b5d9aa9c",
      "metadata": {
        "id": "b5d9aa9c",
        "outputId": "b97d5d65-59ee-414a-f4c9-f29bbf87ddfe",
        "colab": {
          "base_uri": "https://localhost:8080/"
        }
      },
      "outputs": [
        {
          "output_type": "execute_result",
          "data": {
            "text/plain": [
              "500"
            ]
          },
          "metadata": {},
          "execution_count": 13
        }
      ],
      "source": [
        "len(vocabulary)"
      ]
    },
    {
      "cell_type": "code",
      "execution_count": null,
      "id": "802437e0",
      "metadata": {
        "id": "802437e0"
      },
      "outputs": [],
      "source": [
        "from sklearn.feature_extraction.text import TfidfTransformer"
      ]
    },
    {
      "cell_type": "code",
      "execution_count": null,
      "id": "682e0fc7",
      "metadata": {
        "id": "682e0fc7"
      },
      "outputs": [],
      "source": [
        "tfidf = TfidfTransformer()"
      ]
    },
    {
      "cell_type": "code",
      "execution_count": null,
      "id": "fa27e714",
      "metadata": {
        "id": "fa27e714"
      },
      "outputs": [],
      "source": [
        "X_train_idf = tfidf.fit_transform(X_train_vec)"
      ]
    },
    {
      "cell_type": "code",
      "execution_count": null,
      "id": "4cfb41df",
      "metadata": {
        "id": "4cfb41df",
        "outputId": "f7a5411a-22e8-4645-f5ff-f6b7dfb82de4",
        "colab": {
          "base_uri": "https://localhost:8080/"
        },
        "collapsed": true
      },
      "outputs": [
        {
          "output_type": "execute_result",
          "data": {
            "text/plain": [
              "array([[0.        , 0.        , 0.        , 0.        , 0.        ,\n",
              "        0.        , 0.        , 0.        , 0.        , 0.        ,\n",
              "        0.        , 0.        , 0.        , 0.        , 0.        ,\n",
              "        0.        , 0.        , 0.        , 0.        , 0.        ,\n",
              "        0.        , 0.        , 0.        , 0.        , 0.        ,\n",
              "        0.        , 0.        , 0.        , 0.        , 0.        ,\n",
              "        0.        , 0.        , 0.        , 0.        , 0.        ,\n",
              "        0.        , 0.        , 0.        , 0.        , 0.        ,\n",
              "        0.        , 0.        , 0.        , 0.        , 0.        ,\n",
              "        0.        , 0.        , 0.        , 0.        , 0.        ,\n",
              "        0.        , 0.        , 0.        , 0.        , 0.        ,\n",
              "        0.        , 0.        , 0.        , 0.        , 0.        ,\n",
              "        0.        , 0.        , 0.        , 0.        , 0.        ,\n",
              "        0.        , 0.        , 0.        , 0.        , 0.        ,\n",
              "        0.        , 0.        , 0.        , 0.        , 0.        ,\n",
              "        0.        , 0.        , 0.        , 0.        , 0.        ,\n",
              "        0.        , 0.        , 0.        , 0.        , 0.        ,\n",
              "        0.        , 0.        , 0.        , 0.        , 0.        ,\n",
              "        0.        , 0.        , 0.        , 0.        , 0.        ,\n",
              "        0.96415045, 0.        , 0.        , 0.        , 0.        ,\n",
              "        0.        , 0.        , 0.        , 0.        , 0.        ,\n",
              "        0.        , 0.        , 0.        , 0.        , 0.        ,\n",
              "        0.        , 0.        , 0.        , 0.        , 0.        ,\n",
              "        0.        , 0.        , 0.        , 0.        , 0.        ,\n",
              "        0.        , 0.        , 0.        , 0.        , 0.        ,\n",
              "        0.        , 0.        , 0.        , 0.        , 0.        ,\n",
              "        0.2653562 , 0.        , 0.        , 0.        , 0.        ,\n",
              "        0.        , 0.        , 0.        , 0.        , 0.        ,\n",
              "        0.        , 0.        , 0.        , 0.        , 0.        ,\n",
              "        0.        , 0.        , 0.        , 0.        , 0.        ,\n",
              "        0.        , 0.        , 0.        , 0.        , 0.        ,\n",
              "        0.        , 0.        , 0.        , 0.        , 0.        ,\n",
              "        0.        , 0.        , 0.        , 0.        , 0.        ,\n",
              "        0.        , 0.        , 0.        , 0.        , 0.        ,\n",
              "        0.        , 0.        , 0.        , 0.        , 0.        ,\n",
              "        0.        , 0.        , 0.        , 0.        , 0.        ,\n",
              "        0.        , 0.        , 0.        , 0.        , 0.        ,\n",
              "        0.        , 0.        , 0.        , 0.        , 0.        ,\n",
              "        0.        , 0.        , 0.        , 0.        , 0.        ,\n",
              "        0.        , 0.        , 0.        , 0.        , 0.        ,\n",
              "        0.        , 0.        , 0.        , 0.        , 0.        ,\n",
              "        0.        , 0.        , 0.        , 0.        , 0.        ,\n",
              "        0.        , 0.        , 0.        , 0.        , 0.        ,\n",
              "        0.        , 0.        , 0.        , 0.        , 0.        ,\n",
              "        0.        , 0.        , 0.        , 0.        , 0.        ,\n",
              "        0.        , 0.        , 0.        , 0.        , 0.        ,\n",
              "        0.        , 0.        , 0.        , 0.        , 0.        ,\n",
              "        0.        , 0.        , 0.        , 0.        , 0.        ,\n",
              "        0.        , 0.        , 0.        , 0.        , 0.        ,\n",
              "        0.        , 0.        , 0.        , 0.        , 0.        ,\n",
              "        0.        , 0.        , 0.        , 0.        , 0.        ,\n",
              "        0.        , 0.        , 0.        , 0.        , 0.        ,\n",
              "        0.        , 0.        , 0.        , 0.        , 0.        ,\n",
              "        0.        , 0.        , 0.        , 0.        , 0.        ,\n",
              "        0.        , 0.        , 0.        , 0.        , 0.        ,\n",
              "        0.        , 0.        , 0.        , 0.        , 0.        ,\n",
              "        0.        , 0.        , 0.        , 0.        , 0.        ,\n",
              "        0.        , 0.        , 0.        , 0.        , 0.        ,\n",
              "        0.        , 0.        , 0.        , 0.        , 0.        ,\n",
              "        0.        , 0.        , 0.        , 0.        , 0.        ,\n",
              "        0.        , 0.        , 0.        , 0.        , 0.        ,\n",
              "        0.        , 0.        , 0.        , 0.        , 0.        ,\n",
              "        0.        , 0.        , 0.        , 0.        , 0.        ,\n",
              "        0.        , 0.        , 0.        , 0.        , 0.        ,\n",
              "        0.        , 0.        , 0.        , 0.        , 0.        ,\n",
              "        0.        , 0.        , 0.        , 0.        , 0.        ,\n",
              "        0.        , 0.        , 0.        , 0.        , 0.        ,\n",
              "        0.        , 0.        , 0.        , 0.        , 0.        ,\n",
              "        0.        , 0.        , 0.        , 0.        , 0.        ,\n",
              "        0.        , 0.        , 0.        , 0.        , 0.        ,\n",
              "        0.        , 0.        , 0.        , 0.        , 0.        ,\n",
              "        0.        , 0.        , 0.        , 0.        , 0.        ,\n",
              "        0.        , 0.        , 0.        , 0.        , 0.        ,\n",
              "        0.        , 0.        , 0.        , 0.        , 0.        ,\n",
              "        0.        , 0.        , 0.        , 0.        , 0.        ,\n",
              "        0.        , 0.        , 0.        , 0.        , 0.        ,\n",
              "        0.        , 0.        , 0.        , 0.        , 0.        ,\n",
              "        0.        , 0.        , 0.        , 0.        , 0.        ,\n",
              "        0.        , 0.        , 0.        , 0.        , 0.        ,\n",
              "        0.        , 0.        , 0.        , 0.        , 0.        ,\n",
              "        0.        , 0.        , 0.        , 0.        , 0.        ,\n",
              "        0.        , 0.        , 0.        , 0.        , 0.        ,\n",
              "        0.        , 0.        , 0.        , 0.        , 0.        ,\n",
              "        0.        , 0.        , 0.        , 0.        , 0.        ,\n",
              "        0.        , 0.        , 0.        , 0.        , 0.        ,\n",
              "        0.        , 0.        , 0.        , 0.        , 0.        ,\n",
              "        0.        , 0.        , 0.        , 0.        , 0.        ,\n",
              "        0.        , 0.        , 0.        , 0.        , 0.        ,\n",
              "        0.        , 0.        , 0.        , 0.        , 0.        ,\n",
              "        0.        , 0.        , 0.        , 0.        , 0.        ,\n",
              "        0.        , 0.        , 0.        , 0.        , 0.        ,\n",
              "        0.        , 0.        , 0.        , 0.        , 0.        ,\n",
              "        0.        , 0.        , 0.        , 0.        , 0.        ,\n",
              "        0.        , 0.        , 0.        , 0.        , 0.        ,\n",
              "        0.        , 0.        , 0.        , 0.        , 0.        ,\n",
              "        0.        , 0.        , 0.        , 0.        , 0.        ,\n",
              "        0.        , 0.        , 0.        , 0.        , 0.        ,\n",
              "        0.        , 0.        , 0.        , 0.        , 0.        ,\n",
              "        0.        , 0.        , 0.        , 0.        , 0.        ,\n",
              "        0.        , 0.        , 0.        , 0.        , 0.        ]])"
            ]
          },
          "metadata": {},
          "execution_count": 17
        }
      ],
      "source": [
        "X_train_idf[:1].toarray()"
      ]
    },
    {
      "cell_type": "code",
      "execution_count": null,
      "id": "627fde07",
      "metadata": {
        "id": "627fde07",
        "outputId": "f74d2159-076a-4413-93f4-cabdedb5843e",
        "colab": {
          "base_uri": "https://localhost:8080/"
        }
      },
      "outputs": [
        {
          "output_type": "execute_result",
          "data": {
            "text/plain": [
              "1.2295066506768701"
            ]
          },
          "metadata": {},
          "execution_count": 18
        }
      ],
      "source": [
        "X_train_idf[:1].toarray().sum()"
      ]
    },
    {
      "cell_type": "code",
      "execution_count": null,
      "id": "b5314332",
      "metadata": {
        "id": "b5314332"
      },
      "outputs": [],
      "source": [
        "X_test_vec = vectorizer.transform(dataset['test']['text'])"
      ]
    },
    {
      "cell_type": "code",
      "execution_count": null,
      "id": "ffe57a0d",
      "metadata": {
        "id": "ffe57a0d"
      },
      "outputs": [],
      "source": [
        "X_test_idf = tfidf.transform(X_test_vec)"
      ]
    },
    {
      "cell_type": "code",
      "execution_count": null,
      "id": "bf61533b",
      "metadata": {
        "id": "bf61533b",
        "outputId": "ffaef61c-18cc-4ffe-a9d9-b3b9b5870ce3",
        "colab": {
          "base_uri": "https://localhost:8080/"
        }
      },
      "outputs": [
        {
          "output_type": "execute_result",
          "data": {
            "text/plain": [
              "2.52371815232768"
            ]
          },
          "metadata": {},
          "execution_count": 21
        }
      ],
      "source": [
        "X_test_idf[:1].toarray().sum()"
      ]
    },
    {
      "cell_type": "code",
      "execution_count": null,
      "id": "87420785",
      "metadata": {
        "id": "87420785"
      },
      "outputs": [],
      "source": [
        "X_train = X_train_idf.toarray()\n",
        "X_test = X_test_idf.toarray()"
      ]
    },
    {
      "cell_type": "code",
      "execution_count": null,
      "id": "c31c01b9",
      "metadata": {
        "id": "c31c01b9",
        "outputId": "ac655694-54f8-4b4f-e0d0-9db567089810",
        "colab": {
          "base_uri": "https://localhost:8080/"
        },
        "collapsed": true
      },
      "outputs": [
        {
          "output_type": "execute_result",
          "data": {
            "text/plain": [
              "array([0.        , 0.        , 0.        , 0.        , 0.        ,\n",
              "       0.        , 0.        , 0.        , 0.        , 0.        ,\n",
              "       0.        , 0.        , 0.        , 0.        , 0.        ,\n",
              "       0.        , 0.        , 0.        , 0.        , 0.        ,\n",
              "       0.        , 0.        , 0.        , 0.        , 0.        ,\n",
              "       0.        , 0.        , 0.        , 0.        , 0.        ,\n",
              "       0.        , 0.        , 0.        , 0.        , 0.        ,\n",
              "       0.        , 0.        , 0.        , 0.        , 0.        ,\n",
              "       0.        , 0.        , 0.        , 0.        , 0.        ,\n",
              "       0.        , 0.        , 0.        , 0.        , 0.        ,\n",
              "       0.        , 0.        , 0.        , 0.        , 0.        ,\n",
              "       0.        , 0.        , 0.        , 0.        , 0.        ,\n",
              "       0.        , 0.        , 0.        , 0.        , 0.        ,\n",
              "       0.        , 0.        , 0.        , 0.        , 0.        ,\n",
              "       0.        , 0.        , 0.        , 0.        , 0.        ,\n",
              "       0.        , 0.        , 0.        , 0.        , 0.        ,\n",
              "       0.        , 0.        , 0.        , 0.        , 0.        ,\n",
              "       0.        , 0.        , 0.        , 0.        , 0.        ,\n",
              "       0.        , 0.        , 0.        , 0.        , 0.        ,\n",
              "       0.96415045, 0.        , 0.        , 0.        , 0.        ,\n",
              "       0.        , 0.        , 0.        , 0.        , 0.        ,\n",
              "       0.        , 0.        , 0.        , 0.        , 0.        ,\n",
              "       0.        , 0.        , 0.        , 0.        , 0.        ,\n",
              "       0.        , 0.        , 0.        , 0.        , 0.        ,\n",
              "       0.        , 0.        , 0.        , 0.        , 0.        ,\n",
              "       0.        , 0.        , 0.        , 0.        , 0.        ,\n",
              "       0.2653562 , 0.        , 0.        , 0.        , 0.        ,\n",
              "       0.        , 0.        , 0.        , 0.        , 0.        ,\n",
              "       0.        , 0.        , 0.        , 0.        , 0.        ,\n",
              "       0.        , 0.        , 0.        , 0.        , 0.        ,\n",
              "       0.        , 0.        , 0.        , 0.        , 0.        ,\n",
              "       0.        , 0.        , 0.        , 0.        , 0.        ,\n",
              "       0.        , 0.        , 0.        , 0.        , 0.        ,\n",
              "       0.        , 0.        , 0.        , 0.        , 0.        ,\n",
              "       0.        , 0.        , 0.        , 0.        , 0.        ,\n",
              "       0.        , 0.        , 0.        , 0.        , 0.        ,\n",
              "       0.        , 0.        , 0.        , 0.        , 0.        ,\n",
              "       0.        , 0.        , 0.        , 0.        , 0.        ,\n",
              "       0.        , 0.        , 0.        , 0.        , 0.        ,\n",
              "       0.        , 0.        , 0.        , 0.        , 0.        ,\n",
              "       0.        , 0.        , 0.        , 0.        , 0.        ,\n",
              "       0.        , 0.        , 0.        , 0.        , 0.        ,\n",
              "       0.        , 0.        , 0.        , 0.        , 0.        ,\n",
              "       0.        , 0.        , 0.        , 0.        , 0.        ,\n",
              "       0.        , 0.        , 0.        , 0.        , 0.        ,\n",
              "       0.        , 0.        , 0.        , 0.        , 0.        ,\n",
              "       0.        , 0.        , 0.        , 0.        , 0.        ,\n",
              "       0.        , 0.        , 0.        , 0.        , 0.        ,\n",
              "       0.        , 0.        , 0.        , 0.        , 0.        ,\n",
              "       0.        , 0.        , 0.        , 0.        , 0.        ,\n",
              "       0.        , 0.        , 0.        , 0.        , 0.        ,\n",
              "       0.        , 0.        , 0.        , 0.        , 0.        ,\n",
              "       0.        , 0.        , 0.        , 0.        , 0.        ,\n",
              "       0.        , 0.        , 0.        , 0.        , 0.        ,\n",
              "       0.        , 0.        , 0.        , 0.        , 0.        ,\n",
              "       0.        , 0.        , 0.        , 0.        , 0.        ,\n",
              "       0.        , 0.        , 0.        , 0.        , 0.        ,\n",
              "       0.        , 0.        , 0.        , 0.        , 0.        ,\n",
              "       0.        , 0.        , 0.        , 0.        , 0.        ,\n",
              "       0.        , 0.        , 0.        , 0.        , 0.        ,\n",
              "       0.        , 0.        , 0.        , 0.        , 0.        ,\n",
              "       0.        , 0.        , 0.        , 0.        , 0.        ,\n",
              "       0.        , 0.        , 0.        , 0.        , 0.        ,\n",
              "       0.        , 0.        , 0.        , 0.        , 0.        ,\n",
              "       0.        , 0.        , 0.        , 0.        , 0.        ,\n",
              "       0.        , 0.        , 0.        , 0.        , 0.        ,\n",
              "       0.        , 0.        , 0.        , 0.        , 0.        ,\n",
              "       0.        , 0.        , 0.        , 0.        , 0.        ,\n",
              "       0.        , 0.        , 0.        , 0.        , 0.        ,\n",
              "       0.        , 0.        , 0.        , 0.        , 0.        ,\n",
              "       0.        , 0.        , 0.        , 0.        , 0.        ,\n",
              "       0.        , 0.        , 0.        , 0.        , 0.        ,\n",
              "       0.        , 0.        , 0.        , 0.        , 0.        ,\n",
              "       0.        , 0.        , 0.        , 0.        , 0.        ,\n",
              "       0.        , 0.        , 0.        , 0.        , 0.        ,\n",
              "       0.        , 0.        , 0.        , 0.        , 0.        ,\n",
              "       0.        , 0.        , 0.        , 0.        , 0.        ,\n",
              "       0.        , 0.        , 0.        , 0.        , 0.        ,\n",
              "       0.        , 0.        , 0.        , 0.        , 0.        ,\n",
              "       0.        , 0.        , 0.        , 0.        , 0.        ,\n",
              "       0.        , 0.        , 0.        , 0.        , 0.        ,\n",
              "       0.        , 0.        , 0.        , 0.        , 0.        ,\n",
              "       0.        , 0.        , 0.        , 0.        , 0.        ,\n",
              "       0.        , 0.        , 0.        , 0.        , 0.        ,\n",
              "       0.        , 0.        , 0.        , 0.        , 0.        ,\n",
              "       0.        , 0.        , 0.        , 0.        , 0.        ,\n",
              "       0.        , 0.        , 0.        , 0.        , 0.        ,\n",
              "       0.        , 0.        , 0.        , 0.        , 0.        ,\n",
              "       0.        , 0.        , 0.        , 0.        , 0.        ,\n",
              "       0.        , 0.        , 0.        , 0.        , 0.        ,\n",
              "       0.        , 0.        , 0.        , 0.        , 0.        ,\n",
              "       0.        , 0.        , 0.        , 0.        , 0.        ,\n",
              "       0.        , 0.        , 0.        , 0.        , 0.        ,\n",
              "       0.        , 0.        , 0.        , 0.        , 0.        ,\n",
              "       0.        , 0.        , 0.        , 0.        , 0.        ,\n",
              "       0.        , 0.        , 0.        , 0.        , 0.        ,\n",
              "       0.        , 0.        , 0.        , 0.        , 0.        ,\n",
              "       0.        , 0.        , 0.        , 0.        , 0.        ,\n",
              "       0.        , 0.        , 0.        , 0.        , 0.        ,\n",
              "       0.        , 0.        , 0.        , 0.        , 0.        ])"
            ]
          },
          "metadata": {},
          "execution_count": 23
        }
      ],
      "source": [
        "X_train[0]"
      ]
    },
    {
      "cell_type": "code",
      "execution_count": null,
      "id": "bde185fa",
      "metadata": {
        "id": "bde185fa",
        "outputId": "fbabf056-86b6-45cb-8fc1-4014b9c13f8b",
        "colab": {
          "base_uri": "https://localhost:8080/"
        },
        "collapsed": true
      },
      "outputs": [
        {
          "output_type": "execute_result",
          "data": {
            "text/plain": [
              "array([0.        , 0.        , 0.        , 0.        , 0.        ,\n",
              "       0.        , 0.        , 0.        , 0.        , 0.        ,\n",
              "       0.        , 0.        , 0.        , 0.        , 0.        ,\n",
              "       0.        , 0.        , 0.        , 0.        , 0.        ,\n",
              "       0.        , 0.        , 0.        , 0.        , 0.        ,\n",
              "       0.        , 0.        , 0.        , 0.        , 0.        ,\n",
              "       0.        , 0.        , 0.        , 0.        , 0.        ,\n",
              "       0.        , 0.        , 0.        , 0.        , 0.        ,\n",
              "       0.        , 0.        , 0.        , 0.        , 0.        ,\n",
              "       0.        , 0.        , 0.        , 0.        , 0.        ,\n",
              "       0.        , 0.        , 0.        , 0.        , 0.        ,\n",
              "       0.        , 0.        , 0.        , 0.        , 0.        ,\n",
              "       0.        , 0.        , 0.        , 0.        , 0.        ,\n",
              "       0.        , 0.        , 0.        , 0.        , 0.        ,\n",
              "       0.        , 0.        , 0.        , 0.        , 0.        ,\n",
              "       0.        , 0.        , 0.        , 0.        , 0.        ,\n",
              "       0.        , 0.        , 0.        , 0.        , 0.        ,\n",
              "       0.        , 0.        , 0.        , 0.        , 0.        ,\n",
              "       0.        , 0.        , 0.        , 0.        , 0.        ,\n",
              "       0.        , 0.        , 0.        , 0.        , 0.        ,\n",
              "       0.        , 0.        , 0.        , 0.        , 0.        ,\n",
              "       0.        , 0.        , 0.        , 0.        , 0.        ,\n",
              "       0.        , 0.        , 0.        , 0.        , 0.        ,\n",
              "       0.        , 0.        , 0.        , 0.        , 0.        ,\n",
              "       0.        , 0.        , 0.        , 0.        , 0.        ,\n",
              "       0.        , 0.        , 0.        , 0.        , 0.        ,\n",
              "       0.        , 0.15825496, 0.        , 0.        , 0.        ,\n",
              "       0.        , 0.        , 0.        , 0.        , 0.        ,\n",
              "       0.        , 0.        , 0.        , 0.        , 0.        ,\n",
              "       0.        , 0.        , 0.        , 0.        , 0.        ,\n",
              "       0.        , 0.        , 0.        , 0.        , 0.        ,\n",
              "       0.        , 0.        , 0.        , 0.        , 0.        ,\n",
              "       0.        , 0.        , 0.        , 0.        , 0.        ,\n",
              "       0.        , 0.        , 0.        , 0.        , 0.        ,\n",
              "       0.        , 0.        , 0.        , 0.        , 0.        ,\n",
              "       0.        , 0.        , 0.        , 0.        , 0.        ,\n",
              "       0.        , 0.        , 0.        , 0.        , 0.        ,\n",
              "       0.        , 0.        , 0.        , 0.        , 0.        ,\n",
              "       0.        , 0.        , 0.        , 0.        , 0.        ,\n",
              "       0.        , 0.        , 0.        , 0.        , 0.        ,\n",
              "       0.        , 0.        , 0.        , 0.        , 0.41188416,\n",
              "       0.21898747, 0.        , 0.        , 0.        , 0.        ,\n",
              "       0.        , 0.        , 0.        , 0.        , 0.        ,\n",
              "       0.        , 0.        , 0.        , 0.        , 0.        ,\n",
              "       0.        , 0.        , 0.        , 0.        , 0.        ,\n",
              "       0.        , 0.        , 0.        , 0.        , 0.        ,\n",
              "       0.        , 0.        , 0.        , 0.        , 0.        ,\n",
              "       0.        , 0.        , 0.        , 0.        , 0.        ,\n",
              "       0.        , 0.        , 0.        , 0.        , 0.        ,\n",
              "       0.        , 0.        , 0.        , 0.        , 0.        ,\n",
              "       0.        , 0.        , 0.        , 0.        , 0.        ,\n",
              "       0.        , 0.        , 0.        , 0.        , 0.        ,\n",
              "       0.        , 0.        , 0.        , 0.        , 0.        ,\n",
              "       0.        , 0.        , 0.        , 0.        , 0.        ,\n",
              "       0.        , 0.        , 0.        , 0.        , 0.        ,\n",
              "       0.        , 0.        , 0.        , 0.        , 0.        ,\n",
              "       0.        , 0.        , 0.        , 0.        , 0.        ,\n",
              "       0.        , 0.        , 0.        , 0.        , 0.        ,\n",
              "       0.        , 0.        , 0.        , 0.        , 0.        ,\n",
              "       0.        , 0.        , 0.        , 0.        , 0.        ,\n",
              "       0.        , 0.        , 0.        , 0.        , 0.        ,\n",
              "       0.        , 0.        , 0.        , 0.        , 0.        ,\n",
              "       0.        , 0.        , 0.        , 0.        , 0.        ,\n",
              "       0.        , 0.        , 0.        , 0.        , 0.        ,\n",
              "       0.        , 0.        , 0.        , 0.        , 0.        ,\n",
              "       0.        , 0.        , 0.        , 0.38028963, 0.        ,\n",
              "       0.        , 0.        , 0.        , 0.        , 0.        ,\n",
              "       0.        , 0.        , 0.        , 0.        , 0.        ,\n",
              "       0.        , 0.        , 0.        , 0.        , 0.        ,\n",
              "       0.        , 0.        , 0.        , 0.        , 0.        ,\n",
              "       0.42720461, 0.        , 0.        , 0.        , 0.        ,\n",
              "       0.        , 0.        , 0.        , 0.        , 0.        ,\n",
              "       0.        , 0.        , 0.        , 0.        , 0.        ,\n",
              "       0.        , 0.        , 0.        , 0.        , 0.        ,\n",
              "       0.        , 0.        , 0.        , 0.        , 0.        ,\n",
              "       0.        , 0.        , 0.        , 0.        , 0.        ,\n",
              "       0.        , 0.        , 0.        , 0.        , 0.        ,\n",
              "       0.47892061, 0.44817671, 0.        , 0.        , 0.        ,\n",
              "       0.        , 0.        , 0.        , 0.        , 0.        ,\n",
              "       0.        , 0.        , 0.        , 0.        , 0.        ,\n",
              "       0.        , 0.        , 0.        , 0.        , 0.        ,\n",
              "       0.        , 0.        , 0.        , 0.        , 0.        ,\n",
              "       0.        , 0.        , 0.        , 0.        , 0.        ,\n",
              "       0.        , 0.        , 0.        , 0.        , 0.        ,\n",
              "       0.        , 0.        , 0.        , 0.        , 0.        ,\n",
              "       0.        , 0.        , 0.        , 0.        , 0.        ,\n",
              "       0.        , 0.        , 0.        , 0.        , 0.        ,\n",
              "       0.        , 0.        , 0.        , 0.        , 0.        ,\n",
              "       0.        , 0.        , 0.        , 0.        , 0.        ,\n",
              "       0.        , 0.        , 0.        , 0.        , 0.        ,\n",
              "       0.        , 0.        , 0.        , 0.        , 0.        ,\n",
              "       0.        , 0.        , 0.        , 0.        , 0.        ,\n",
              "       0.        , 0.        , 0.        , 0.        , 0.        ,\n",
              "       0.        , 0.        , 0.        , 0.        , 0.        ,\n",
              "       0.        , 0.        , 0.        , 0.        , 0.        ,\n",
              "       0.        , 0.        , 0.        , 0.        , 0.        ,\n",
              "       0.        , 0.        , 0.        , 0.        , 0.        ,\n",
              "       0.        , 0.        , 0.        , 0.        , 0.        ,\n",
              "       0.        , 0.        , 0.        , 0.        , 0.        ,\n",
              "       0.        , 0.        , 0.        , 0.        , 0.        ])"
            ]
          },
          "metadata": {},
          "execution_count": 24
        }
      ],
      "source": [
        "X_test[0]"
      ]
    },
    {
      "cell_type": "code",
      "execution_count": null,
      "id": "a9fc09e0",
      "metadata": {
        "id": "a9fc09e0"
      },
      "outputs": [],
      "source": [
        "X_train, X_test, y_train, y_test = X_train,X_test,dataset['train']['label'],\\\n",
        "                            dataset['test']['label']"
      ]
    },
    {
      "cell_type": "code",
      "execution_count": null,
      "id": "36424a3e",
      "metadata": {
        "id": "36424a3e"
      },
      "outputs": [],
      "source": [
        "# Задача. Варьируя параметры ансамбля в подходам блэндинг и стэкинг, обучить оптимальный классификатор.\n",
        "# Визуализировать графики зависимости предсказания от параметров модели."
      ]
    },
    {
      "cell_type": "markdown",
      "metadata": {
        "id": "hGDiMe0XfEVn"
      },
      "source": [
        "# Stacking"
      ],
      "id": "hGDiMe0XfEVn"
    },
    {
      "cell_type": "markdown",
      "source": [
        "##Функция стэкинга"
      ],
      "metadata": {
        "id": "LVkkfHSGd5oX"
      },
      "id": "LVkkfHSGd5oX"
    },
    {
      "cell_type": "code",
      "source": [
        "from sklearn.model_selection import KFold\n",
        "import numpy as np\n",
        "from sklearn.ensemble import RandomForestClassifier\n",
        "from sklearn.linear_model import LogisticRegression"
      ],
      "metadata": {
        "id": "D_zJ3nRAHMDY"
      },
      "id": "D_zJ3nRAHMDY",
      "execution_count": null,
      "outputs": []
    },
    {
      "cell_type": "markdown",
      "source": [
        "Изменяются параметры K-fold (N), n_estimators и max_depth для первого слоя моделей и конечной модели RandomForestClassifier"
      ],
      "metadata": {
        "id": "WPNsxQyyeE4G"
      },
      "id": "WPNsxQyyeE4G"
    },
    {
      "cell_type": "code",
      "source": [
        "def stacking(N=10,\n",
        "    n_estim_first_models=2,\n",
        "    max_depth_first_models=2,\n",
        "    min_samples_leaf_first_models=1,\n",
        "    n_estim_final_models=10,\n",
        "    max_depth_final_models=6,\n",
        "    min_samples_leaf_final_models=1):\n",
        "    # N = 10\n",
        "    y_pred_1 = []\n",
        "    crf_stack = []\n",
        "    kf = KFold(n_splits=N, random_state=None, shuffle=False)\n",
        "\n",
        "    x_test_2 = []\n",
        "    y_test_2 = []\n",
        "\n",
        "    pre_prediction = np.zeros((len(X_train), N))\n",
        "\n",
        "    for i, (train_index, test_index) in enumerate(kf.split(X_train)):\n",
        "        X_train_0, X_test_1 = np.array(X_train)[train_index], np.array(X_train)[test_index]\n",
        "        y_train_0, y_test_1 = np.array(y_train)[train_index], np.array(y_train)[test_index]\n",
        "\n",
        "        crf_stack.append(RandomForestClassifier(\n",
        "                            n_estimators = n_estim_first_models,\n",
        "                            max_depth=max_depth_first_models,\n",
        "                            #min_samples_leaf=min_samples_leaf_first_models,\n",
        "                            random_state=i))\n",
        "        crf_stack[-1].fit(X_train_0,y_train_0)\n",
        "        pre_prediction[test_index,i]=crf_stack[-1].predict(X_test_1)\n",
        "\n",
        "    clf_stack_final = RandomForestClassifier(\n",
        "        n_estimators = n_estim_final_models,\n",
        "        #max_depth=max_depth_final_models,\n",
        "        #min_samples_leaf=min_samples_leaf_final_models,\n",
        "        random_state=42)\n",
        "    #clf_stack_final = LogisticRegression()\n",
        "    clf_stack_final.fit(pre_prediction, y_train)\n",
        "    return crf_stack, clf_stack_final"
      ],
      "metadata": {
        "id": "sGwKnTlCHBAP"
      },
      "id": "sGwKnTlCHBAP",
      "execution_count": null,
      "outputs": []
    },
    {
      "cell_type": "code",
      "execution_count": null,
      "id": "1a43471a",
      "metadata": {
        "id": "1a43471a"
      },
      "outputs": [],
      "source": [
        "def make_stacking_prediction(basic_clfs, final_clf, data):\n",
        "    y0 = []\n",
        "    for c in basic_clfs:\n",
        "        y0.append(c.predict(data))\n",
        "    y0_t = np.array(y0).transpose()\n",
        "    return final_clf.predict(y0_t)\n",
        "\n",
        "# y_test_pred = make_stacking_prediction(crf_stack,clf_stack_final, X_test)\n",
        "# metrics.accuracy_score(y_test, y_test_pred)"
      ]
    },
    {
      "cell_type": "markdown",
      "source": [
        "## Варьирование количества оценщиков для моделей первого слоя"
      ],
      "metadata": {
        "id": "zXJRo9hPerC_"
      },
      "id": "zXJRo9hPerC_"
    },
    {
      "cell_type": "code",
      "execution_count": null,
      "metadata": {
        "id": "4UStBIkl9G5y"
      },
      "outputs": [],
      "source": [
        "n_estim_forest_model_acc = []\n",
        "\n",
        "for i in range(2, 303, 50):\n",
        "    forest_model = RandomForestClassifier(n_estimators = i, max_depth=200, n_jobs=-1, random_state=42)\n",
        "    # DecisionTreeRegressor(max_depth=i*5+1, min_samples_leaf=1000)\n",
        "    forest_model.fit(X_train, y_train)\n",
        "    y_test_pred = forest_model.predict(X_test)\n",
        "    n_estim_forest_model_acc.append(metrics.accuracy_score(y_test, y_test_pred))"
      ],
      "id": "4UStBIkl9G5y"
    },
    {
      "cell_type": "code",
      "execution_count": null,
      "metadata": {
        "colab": {
          "base_uri": "https://localhost:8080/",
          "height": 465
        },
        "outputId": "80fdeb3e-751e-4ec2-f017-601c8a4a4de5",
        "id": "uB3Y04Ph9G5y"
      },
      "outputs": [
        {
          "output_type": "stream",
          "name": "stderr",
          "text": [
            "<ipython-input-149-53874cdaf2e4>:5: UserWarning: No artists with labels found to put in legend.  Note that artists whose label start with an underscore are ignored when legend() is called with no argument.\n",
            "  plt.legend()\n"
          ]
        },
        {
          "output_type": "display_data",
          "data": {
            "text/plain": [
              "<Figure size 1000x400 with 1 Axes>"
            ],
            "image/png": "[encoded data removed]"
          },
          "metadata": {}
        }
      ],
      "source": [
        "plt.figure(figsize=(10, 4))\n",
        "plt.title('Изменение точности в зависимости от количества оценщиков')\n",
        "\n",
        "plt.plot([i for i in range(2, 303, 50)], n_estim_forest_model_acc)\n",
        "plt.legend()\n",
        "plt.xlabel('Количество моделей')\n",
        "plt.ylabel('Accuracy')\n",
        "plt.grid()\n",
        "plt.show()"
      ],
      "id": "uB3Y04Ph9G5y"
    },
    {
      "cell_type": "markdown",
      "source": [
        "## Варьирование максимальной глубины деревьев для моделей первого слоя"
      ],
      "metadata": {
        "id": "MhzHk7IQe9iV"
      },
      "id": "MhzHk7IQe9iV"
    },
    {
      "cell_type": "code",
      "execution_count": null,
      "metadata": {
        "id": "QU-UEsjF_zIe"
      },
      "outputs": [],
      "source": [
        "forest_model_acc = []\n",
        "\n",
        "for i in range(10, 311, 50):\n",
        "    forest_model = RandomForestClassifier(n_estimators = 200, max_depth=i, n_jobs=-1, random_state=42)\n",
        "    # DecisionTreeRegressor(max_depth=i*5+1, min_samples_leaf=1000)\n",
        "    forest_model.fit(X_train, y_train)\n",
        "    y_test_pred = forest_model.predict(X_test)\n",
        "    forest_model_acc.append(metrics.accuracy_score(y_test, y_test_pred))"
      ],
      "id": "QU-UEsjF_zIe"
    },
    {
      "cell_type": "code",
      "execution_count": null,
      "metadata": {
        "colab": {
          "base_uri": "https://localhost:8080/",
          "height": 465
        },
        "outputId": "b1b2acc6-4d9a-475c-c532-a404a833aa40",
        "id": "zcnUMech_zIe"
      },
      "outputs": [
        {
          "output_type": "stream",
          "name": "stderr",
          "text": [
            "<ipython-input-146-256dc981867c>:5: UserWarning: No artists with labels found to put in legend.  Note that artists whose label start with an underscore are ignored when legend() is called with no argument.\n",
            "  plt.legend()\n"
          ]
        },
        {
          "output_type": "display_data",
          "data": {
            "text/plain": [
              "<Figure size 1000x400 with 1 Axes>"
            ],
            "image/png": "[encoded data removed]"
          },
          "metadata": {}
        }
      ],
      "source": [
        "plt.figure(figsize=(10, 4))\n",
        "plt.title('Изменение точности в зависимости от максимальной глубины дерева')\n",
        "\n",
        "plt.plot([i for i in range(10, 311, 50)], forest_model_acc)\n",
        "plt.legend()\n",
        "plt.xlabel('Максимальная глубина дерева')\n",
        "plt.ylabel('Accuracy')\n",
        "plt.grid()\n",
        "plt.show()"
      ],
      "id": "zcnUMech_zIe"
    },
    {
      "cell_type": "markdown",
      "source": [
        "## Обучение первого слоя моделей и анализ параметров для конечной модели"
      ],
      "metadata": {
        "id": "xsNgicx2fGoK"
      },
      "id": "xsNgicx2fGoK"
    },
    {
      "cell_type": "code",
      "source": [
        "N = 2\n",
        "y_pred_1 = []\n",
        "crf_stack = []\n",
        "kf = KFold(n_splits=N, random_state=None, shuffle=False)\n",
        "\n",
        "x_test_2 = []\n",
        "y_test_2 = []\n",
        "\n",
        "pre_prediction = np.zeros((len(X_train), N))\n",
        "\n",
        "for i, (train_index, test_index) in enumerate(kf.split(X_train)):\n",
        "    X_train_0, X_test_1 = np.array(X_train)[train_index], np.array(X_train)[test_index]\n",
        "    y_train_0, y_test_1 = np.array(y_train)[train_index], np.array(y_train)[test_index]\n",
        "\n",
        "    crf_stack.append(RandomForestClassifier(n_estimators = 200, max_depth=100, random_state=i))\n",
        "    crf_stack[-1].fit(X_train_0,y_train_0)\n",
        "    pre_prediction[test_index,i]=crf_stack[-1].predict(X_test_1)"
      ],
      "metadata": {
        "id": "v4_XB7XIEtq_"
      },
      "id": "v4_XB7XIEtq_",
      "execution_count": null,
      "outputs": []
    },
    {
      "cell_type": "markdown",
      "source": [
        "## Варьирование количества оценщиков для конечной модели"
      ],
      "metadata": {
        "id": "BqkMp9enfkiU"
      },
      "id": "BqkMp9enfkiU"
    },
    {
      "cell_type": "code",
      "execution_count": null,
      "metadata": {
        "id": "OZJmdHE0FL3-"
      },
      "outputs": [],
      "source": [
        "final_model_acc = []\n",
        "\n",
        "for i in range(2, 1003, 50):\n",
        "    final_model = RandomForestClassifier(n_estimators=i, max_depth=6, random_state=42)\n",
        "    final_model.fit(pre_prediction, y_train)\n",
        "    y_test_pred = make_stacking_prediction(crf_stack, final_model, X_test)\n",
        "    final_model_acc.append(metrics.accuracy_score(y_test, y_test_pred))"
      ],
      "id": "OZJmdHE0FL3-"
    },
    {
      "cell_type": "code",
      "execution_count": null,
      "metadata": {
        "colab": {
          "base_uri": "https://localhost:8080/",
          "height": 465
        },
        "outputId": "bed9333b-1ad7-4c31-8009-10c7d8279e75",
        "id": "HtBb4ceqFL3-"
      },
      "outputs": [
        {
          "output_type": "stream",
          "name": "stderr",
          "text": [
            "<ipython-input-167-7effc30944f1>:5: UserWarning: No artists with labels found to put in legend.  Note that artists whose label start with an underscore are ignored when legend() is called with no argument.\n",
            "  plt.legend()\n"
          ]
        },
        {
          "output_type": "display_data",
          "data": {
            "text/plain": [
              "<Figure size 1000x400 with 1 Axes>"
            ],
            "image/png": "[encoded data removed]"
          },
          "metadata": {}
        }
      ],
      "source": [
        "plt.figure(figsize=(10, 4))\n",
        "plt.title('Изменение точности последней модели')\n",
        "\n",
        "plt.plot([i for i in range(2, 1003, 50)], final_model_acc)\n",
        "plt.legend()\n",
        "plt.xlabel('Количество оценщиков')\n",
        "plt.ylabel('Accuracy')\n",
        "plt.grid()\n",
        "plt.show()"
      ],
      "id": "HtBb4ceqFL3-"
    },
    {
      "cell_type": "markdown",
      "source": [
        "## Варьирование максимальной глубины дерева для моделей первого слоя"
      ],
      "metadata": {
        "id": "hNwr1fv4fuvI"
      },
      "id": "hNwr1fv4fuvI"
    },
    {
      "cell_type": "code",
      "execution_count": null,
      "metadata": {
        "id": "zOVIYhuyHsx_"
      },
      "outputs": [],
      "source": [
        "max_depth_final_model_acc = []\n",
        "\n",
        "for i in range(10, 1011, 50):\n",
        "    final_model = RandomForestClassifier(n_estimators=2, min_samples_split=i, random_state=42)\n",
        "    final_model.fit(pre_prediction, y_train)\n",
        "    y_test_pred = make_stacking_prediction(crf_stack, final_model, X_test)\n",
        "    max_depth_final_model_acc.append(metrics.accuracy_score(y_test, y_test_pred))"
      ],
      "id": "zOVIYhuyHsx_"
    },
    {
      "cell_type": "code",
      "execution_count": null,
      "metadata": {
        "colab": {
          "base_uri": "https://localhost:8080/",
          "height": 465
        },
        "outputId": "b8bf388b-9898-418a-a252-0b4048a23989",
        "id": "yj0qjuhxHsyA"
      },
      "outputs": [
        {
          "output_type": "stream",
          "name": "stderr",
          "text": [
            "<ipython-input-181-34000006dc9f>:5: UserWarning: No artists with labels found to put in legend.  Note that artists whose label start with an underscore are ignored when legend() is called with no argument.\n",
            "  plt.legend()\n"
          ]
        },
        {
          "output_type": "display_data",
          "data": {
            "text/plain": [
              "<Figure size 1000x400 with 1 Axes>"
            ],
            "image/png": "[encoded data removed]"
          },
          "metadata": {}
        }
      ],
      "source": [
        "plt.figure(figsize=(10, 4))\n",
        "plt.title('Изменение точности последней модели')\n",
        "\n",
        "plt.plot([i for i in range(10, 1011, 50)], max_depth_final_model_acc)\n",
        "plt.legend()\n",
        "plt.xlabel('Максимальная глубина дерева')\n",
        "plt.ylabel('Accuracy')\n",
        "plt.grid()\n",
        "plt.show()"
      ],
      "id": "yj0qjuhxHsyA"
    },
    {
      "cell_type": "markdown",
      "source": [
        "## Варьирование K-fold для моделей первого слоя"
      ],
      "metadata": {
        "id": "DD_7_nATf6tN"
      },
      "id": "DD_7_nATf6tN"
    },
    {
      "cell_type": "code",
      "source": [
        "stacking_accuracy_scores = []\n",
        "# clf_final = RandomForestClassifier(n_estimators = 10,max_depth=6, random_state=42)\n",
        "\n",
        "for i in range(2, 23, 5):\n",
        "    crf_stack, clf_stack_final = stacking(N=i,\n",
        "                                      n_estim_first_models=200,\n",
        "                                      max_depth_first_models=100,\n",
        "                                      n_estim_final_models=2)\n",
        "    y_test_pred = make_stacking_prediction(crf_stack,clf_stack_final, X_test)\n",
        "    stacking_accuracy_scores.append(metrics.accuracy_score(y_test, y_test_pred))"
      ],
      "metadata": {
        "id": "hPkxAcwRNeIc"
      },
      "execution_count": null,
      "outputs": [],
      "id": "hPkxAcwRNeIc"
    },
    {
      "cell_type": "code",
      "source": [
        "plt.figure(figsize=(10, 4))\n",
        "plt.title('Изменение accuracy в зависимости от k-fold')\n",
        "\n",
        "plt.plot([i for i in range(2, 23, 5)], stacking_accuracy_scores)\n",
        "plt.legend()\n",
        "plt.xlabel('K-Fold')\n",
        "plt.ylabel('Accuracy')\n",
        "plt.grid()\n",
        "plt.show()"
      ],
      "metadata": {
        "colab": {
          "base_uri": "https://localhost:8080/",
          "height": 465
        },
        "outputId": "340826eb-35be-4c3c-d9bb-cf658c30278b",
        "id": "im10lAoxNeId"
      },
      "execution_count": null,
      "outputs": [
        {
          "output_type": "stream",
          "name": "stderr",
          "text": [
            "<ipython-input-186-f79441f4a490>:5: UserWarning: No artists with labels found to put in legend.  Note that artists whose label start with an underscore are ignored when legend() is called with no argument.\n",
            "  plt.legend()\n"
          ]
        },
        {
          "output_type": "display_data",
          "data": {
            "text/plain": [
              "<Figure size 1000x400 with 1 Axes>"
            ],
            "image/png": "[encoded data removed]"
          },
          "metadata": {}
        }
      ],
      "id": "im10lAoxNeId"
    },
    {
      "cell_type": "markdown",
      "metadata": {
        "id": "BQrDtP7Ay7Ao"
      },
      "source": [
        "##Модель стэкинга с выявленными выше параметрами"
      ],
      "id": "BQrDtP7Ay7Ao"
    },
    {
      "cell_type": "code",
      "source": [
        "crf_stack, clf_stack_final = stacking(N=2,\n",
        "                                      n_estim_first_models=200,\n",
        "                                      max_depth_first_models=100,\n",
        "                                      n_estim_final_models=2)\n",
        "y_test_pred = make_stacking_prediction(crf_stack,clf_stack_final, X_test)\n",
        "metrics.accuracy_score(y_test, y_test_pred)"
      ],
      "metadata": {
        "colab": {
          "base_uri": "https://localhost:8080/"
        },
        "id": "Qdz0fADXmSva",
        "outputId": "1a41e4a2-64ef-4cbc-c7a4-9d157bf79914"
      },
      "id": "Qdz0fADXmSva",
      "execution_count": null,
      "outputs": [
        {
          "output_type": "execute_result",
          "data": {
            "text/plain": [
              "0.6525"
            ]
          },
          "metadata": {},
          "execution_count": 188
        }
      ]
    },
    {
      "cell_type": "code",
      "source": [
        "print('accuracy стэкинг-модели:', np.round(metrics.accuracy_score(y_test, y_test_pred), 4))"
      ],
      "metadata": {
        "colab": {
          "base_uri": "https://localhost:8080/"
        },
        "id": "kwYCoNnrdK2v",
        "outputId": "d8d1b130-9762-4fb8-dd88-3dce5010f476"
      },
      "id": "kwYCoNnrdK2v",
      "execution_count": null,
      "outputs": [
        {
          "output_type": "stream",
          "name": "stdout",
          "text": [
            "accuracy стэкинг-модели: 0.6525\n"
          ]
        }
      ]
    },
    {
      "cell_type": "markdown",
      "metadata": {
        "id": "39c24b04"
      },
      "source": [
        "# Blending"
      ],
      "id": "39c24b04"
    },
    {
      "cell_type": "code",
      "execution_count": null,
      "metadata": {
        "id": "6619ae35"
      },
      "outputs": [],
      "source": [
        "X_train_0, X_train_1, y_train_0, y_train_1 = train_test_split(X_train, y_train, test_size=0.33, random_state=42)"
      ],
      "id": "6619ae35"
    },
    {
      "cell_type": "code",
      "execution_count": null,
      "metadata": {
        "id": "86ac2f78"
      },
      "outputs": [],
      "source": [
        "from sklearn.ensemble import RandomForestClassifier\n",
        "def blending(N=2):\n",
        "    #N = 2\n",
        "    y_pred_1 = []\n",
        "    crf = []\n",
        "    for n in range(1,N+1):\n",
        "        crf.append(RandomForestClassifier(n_estimators = 200,max_depth=100, random_state=n))\n",
        "        crf[-1].fit(X_train_0,y_train_0)\n",
        "        y_pred_1.append(crf[-1].predict(X_train_1).reshape(len(X_train_1),1))\n",
        "        y_pred_1t = np.array(y_pred_1).transpose()[0]\n",
        "    #y_pred_1 = hstack(y_pred_1)\n",
        "    print(len(y_pred_1t[0]))\n",
        "\n",
        "    return crf, y_pred_1t"
      ],
      "id": "86ac2f78"
    },
    {
      "cell_type": "code",
      "execution_count": null,
      "metadata": {
        "id": "cdff6c54"
      },
      "outputs": [],
      "source": [
        "def make_blending_prediction(basic_clfs, final_clf, data):\n",
        "    y0 = []\n",
        "    for c in basic_clfs:\n",
        "        y0.append(c.predict(data))\n",
        "    y0_t = np.array(y0).transpose()\n",
        "    return final_clf.predict(y0_t)\n",
        "\n",
        "#y_test_pred = make_blending_prediction(crf,clf_final, X_test)\n",
        "#metrics.accuracy_score(y_test, y_test_pred)"
      ],
      "id": "cdff6c54"
    },
    {
      "cell_type": "markdown",
      "source": [
        "## Варьирование количества моделей первого слоя"
      ],
      "metadata": {
        "id": "gluQAsMTi-b-"
      },
      "id": "gluQAsMTi-b-"
    },
    {
      "cell_type": "code",
      "source": [
        "blending_accuracy_scores = []\n",
        "# clf_final = RandomForestClassifier(n_estimators = 10,max_depth=6, random_state=42)\n",
        "\n",
        "for i in range(2, 5):\n",
        "    crf, y_pred_1t = blending(i)\n",
        "    clf_final = RandomForestClassifier(n_estimators = 2, random_state=42)\n",
        "    clf_final.fit(y_pred_1t,y_train_1)\n",
        "    y_test_pred = make_blending_prediction(crf,clf_final, X_test)\n",
        "    blending_accuracy_scores.append(metrics.accuracy_score(y_test, y_test_pred))"
      ],
      "metadata": {
        "colab": {
          "base_uri": "https://localhost:8080/"
        },
        "id": "rPWOgdZ0i-b_",
        "outputId": "148683cd-4f4e-4e7d-8401-e06b7ea9c562"
      },
      "execution_count": null,
      "outputs": [
        {
          "output_type": "stream",
          "name": "stdout",
          "text": [
            "2\n",
            "3\n",
            "4\n"
          ]
        }
      ],
      "id": "rPWOgdZ0i-b_"
    },
    {
      "cell_type": "code",
      "source": [
        "plt.figure(figsize=(10, 4))\n",
        "plt.title('Изменение accuracy в зависимости от количества оценщиков конечной модели')\n",
        "\n",
        "plt.plot([i for i in range(2, 5)], blending_accuracy_scores)\n",
        "plt.legend()\n",
        "plt.xlabel('n_estimators')\n",
        "plt.ylabel('Accuracy')\n",
        "plt.grid()\n",
        "plt.show()"
      ],
      "metadata": {
        "colab": {
          "base_uri": "https://localhost:8080/",
          "height": 465
        },
        "outputId": "e21a53b5-44f1-41f6-cb02-d7780747aa4d",
        "id": "D2Bklts9i-b_"
      },
      "execution_count": null,
      "outputs": [
        {
          "output_type": "stream",
          "name": "stderr",
          "text": [
            "<ipython-input-220-062ae76da5a9>:5: UserWarning: No artists with labels found to put in legend.  Note that artists whose label start with an underscore are ignored when legend() is called with no argument.\n",
            "  plt.legend()\n"
          ]
        },
        {
          "output_type": "display_data",
          "data": {
            "text/plain": [
              "<Figure size 1000x400 with 1 Axes>"
            ],
            "image/png": "[encoded data removed]"
          },
          "metadata": {}
        }
      ],
      "id": "D2Bklts9i-b_"
    },
    {
      "cell_type": "markdown",
      "source": [
        "## Модель блэндинга"
      ],
      "metadata": {
        "id": "7XMk7Z5HorSz"
      },
      "id": "7XMk7Z5HorSz"
    },
    {
      "cell_type": "code",
      "source": [
        "crf, y_pred_1t = blending(2)\n",
        "clf_final = RandomForestClassifier(n_estimators = 2, random_state=42)\n",
        "clf_final.fit(y_pred_1t,y_train_1)\n",
        "y_test_pred = make_blending_prediction(crf,clf_final, X_test)\n",
        "print('accuracy:', metrics.accuracy_score(y_test, y_test_pred))"
      ],
      "metadata": {
        "colab": {
          "base_uri": "https://localhost:8080/"
        },
        "id": "zm9k5tkZo5rS",
        "outputId": "aa306b53-1070-4237-ce74-6419539a1d7b"
      },
      "id": "zm9k5tkZo5rS",
      "execution_count": null,
      "outputs": [
        {
          "output_type": "stream",
          "name": "stdout",
          "text": [
            "2\n",
            "accuracy: 0.6535\n"
          ]
        }
      ]
    }
  ],
  "metadata": {
    "kernelspec": {
      "display_name": "Python 3 (ipykernel)",
      "language": "python",
      "name": "python3"
    },
    "language_info": {
      "codemirror_mode": {
        "name": "ipython",
        "version": 3
      },
      "file_extension": ".py",
      "mimetype": "text/x-python",
      "name": "python",
      "nbconvert_exporter": "python",
      "pygments_lexer": "ipython3",
      "version": "3.10.4"
    },
    "colab": {
      "provenance": [],
      "toc_visible": true
    },
    "widgets": {
      "application/vnd.jupyter.widget-state+json": {
        "69c81713d39a46439cf617cbaafe297f": {
          "model_module": "@jupyter-widgets/controls",
          "model_name": "HBoxModel",
          "model_module_version": "1.5.0",
          "state": {
            "_dom_classes": [],
            "_model_module": "@jupyter-widgets/controls",
            "_model_module_version": "1.5.0",
            "_model_name": "HBoxModel",
            "_view_count": null,
            "_view_module": "@jupyter-widgets/controls",
            "_view_module_version": "1.5.0",
            "_view_name": "HBoxView",
            "box_style": "",
            "children": [
              "IPY_MODEL_e2f54c48dd614cf080f1087cb0236897",
              "IPY_MODEL_3e2a045987794c58946b5a815127d3ec",
              "IPY_MODEL_5cdcc4a734894a128c035975295bd712"
            ],
            "layout": "IPY_MODEL_0dc02c290c464c8faf587cc46e59aa4b"
          }
        },
        "e2f54c48dd614cf080f1087cb0236897": {
          "model_module": "@jupyter-widgets/controls",
          "model_name": "HTMLModel",
          "model_module_version": "1.5.0",
          "state": {
            "_dom_classes": [],
            "_model_module": "@jupyter-widgets/controls",
            "_model_module_version": "1.5.0",
            "_model_name": "HTMLModel",
            "_view_count": null,
            "_view_module": "@jupyter-widgets/controls",
            "_view_module_version": "1.5.0",
            "_view_name": "HTMLView",
            "description": "",
            "description_tooltip": null,
            "layout": "IPY_MODEL_1c6a720ecc1d4cfb83e616dccf3f1a5f",
            "placeholder": "​",
            "style": "IPY_MODEL_574e58efa1024bafa44ef0959f5f86b0",
            "value": "Generating train split: "
          }
        },
        "3e2a045987794c58946b5a815127d3ec": {
          "model_module": "@jupyter-widgets/controls",
          "model_name": "FloatProgressModel",
          "model_module_version": "1.5.0",
          "state": {
            "_dom_classes": [],
            "_model_module": "@jupyter-widgets/controls",
            "_model_module_version": "1.5.0",
            "_model_name": "FloatProgressModel",
            "_view_count": null,
            "_view_module": "@jupyter-widgets/controls",
            "_view_module_version": "1.5.0",
            "_view_name": "ProgressView",
            "bar_style": "success",
            "description": "",
            "description_tooltip": null,
            "layout": "IPY_MODEL_1ba0bbe99630466b9c8a3414ddda0202",
            "max": 1,
            "min": 0,
            "orientation": "horizontal",
            "style": "IPY_MODEL_eaa36fe51d91407ea47597209b7a2979",
            "value": 1
          }
        },
        "5cdcc4a734894a128c035975295bd712": {
          "model_module": "@jupyter-widgets/controls",
          "model_name": "HTMLModel",
          "model_module_version": "1.5.0",
          "state": {
            "_dom_classes": [],
            "_model_module": "@jupyter-widgets/controls",
            "_model_module_version": "1.5.0",
            "_model_name": "HTMLModel",
            "_view_count": null,
            "_view_module": "@jupyter-widgets/controls",
            "_view_module_version": "1.5.0",
            "_view_name": "HTMLView",
            "description": "",
            "description_tooltip": null,
            "layout": "IPY_MODEL_1fc6e1dc03f8443b812c1bf0b38807de",
            "placeholder": "​",
            "style": "IPY_MODEL_a636aca705f44a10833686ac58bf9a6c",
            "value": " 16000/0 [00:00&lt;00:00, 62741.26 examples/s]"
          }
        },
        "0dc02c290c464c8faf587cc46e59aa4b": {
          "model_module": "@jupyter-widgets/base",
          "model_name": "LayoutModel",
          "model_module_version": "1.2.0",
          "state": {
            "_model_module": "@jupyter-widgets/base",
            "_model_module_version": "1.2.0",
            "_model_name": "LayoutModel",
            "_view_count": null,
            "_view_module": "@jupyter-widgets/base",
            "_view_module_version": "1.2.0",
            "_view_name": "LayoutView",
            "align_content": null,
            "align_items": null,
            "align_self": null,
            "border": null,
            "bottom": null,
            "display": null,
            "flex": null,
            "flex_flow": null,
            "grid_area": null,
            "grid_auto_columns": null,
            "grid_auto_flow": null,
            "grid_auto_rows": null,
            "grid_column": null,
            "grid_gap": null,
            "grid_row": null,
            "grid_template_areas": null,
            "grid_template_columns": null,
            "grid_template_rows": null,
            "height": null,
            "justify_content": null,
            "justify_items": null,
            "left": null,
            "margin": null,
            "max_height": null,
            "max_width": null,
            "min_height": null,
            "min_width": null,
            "object_fit": null,
            "object_position": null,
            "order": null,
            "overflow": null,
            "overflow_x": null,
            "overflow_y": null,
            "padding": null,
            "right": null,
            "top": null,
            "visibility": null,
            "width": null
          }
        },
        "1c6a720ecc1d4cfb83e616dccf3f1a5f": {
          "model_module": "@jupyter-widgets/base",
          "model_name": "LayoutModel",
          "model_module_version": "1.2.0",
          "state": {
            "_model_module": "@jupyter-widgets/base",
            "_model_module_version": "1.2.0",
            "_model_name": "LayoutModel",
            "_view_count": null,
            "_view_module": "@jupyter-widgets/base",
            "_view_module_version": "1.2.0",
            "_view_name": "LayoutView",
            "align_content": null,
            "align_items": null,
            "align_self": null,
            "border": null,
            "bottom": null,
            "display": null,
            "flex": null,
            "flex_flow": null,
            "grid_area": null,
            "grid_auto_columns": null,
            "grid_auto_flow": null,
            "grid_auto_rows": null,
            "grid_column": null,
            "grid_gap": null,
            "grid_row": null,
            "grid_template_areas": null,
            "grid_template_columns": null,
            "grid_template_rows": null,
            "height": null,
            "justify_content": null,
            "justify_items": null,
            "left": null,
            "margin": null,
            "max_height": null,
            "max_width": null,
            "min_height": null,
            "min_width": null,
            "object_fit": null,
            "object_position": null,
            "order": null,
            "overflow": null,
            "overflow_x": null,
            "overflow_y": null,
            "padding": null,
            "right": null,
            "top": null,
            "visibility": null,
            "width": null
          }
        },
        "574e58efa1024bafa44ef0959f5f86b0": {
          "model_module": "@jupyter-widgets/controls",
          "model_name": "DescriptionStyleModel",
          "model_module_version": "1.5.0",
          "state": {
            "_model_module": "@jupyter-widgets/controls",
            "_model_module_version": "1.5.0",
            "_model_name": "DescriptionStyleModel",
            "_view_count": null,
            "_view_module": "@jupyter-widgets/base",
            "_view_module_version": "1.2.0",
            "_view_name": "StyleView",
            "description_width": ""
          }
        },
        "1ba0bbe99630466b9c8a3414ddda0202": {
          "model_module": "@jupyter-widgets/base",
          "model_name": "LayoutModel",
          "model_module_version": "1.2.0",
          "state": {
            "_model_module": "@jupyter-widgets/base",
            "_model_module_version": "1.2.0",
            "_model_name": "LayoutModel",
            "_view_count": null,
            "_view_module": "@jupyter-widgets/base",
            "_view_module_version": "1.2.0",
            "_view_name": "LayoutView",
            "align_content": null,
            "align_items": null,
            "align_self": null,
            "border": null,
            "bottom": null,
            "display": null,
            "flex": null,
            "flex_flow": null,
            "grid_area": null,
            "grid_auto_columns": null,
            "grid_auto_flow": null,
            "grid_auto_rows": null,
            "grid_column": null,
            "grid_gap": null,
            "grid_row": null,
            "grid_template_areas": null,
            "grid_template_columns": null,
            "grid_template_rows": null,
            "height": null,
            "justify_content": null,
            "justify_items": null,
            "left": null,
            "margin": null,
            "max_height": null,
            "max_width": null,
            "min_height": null,
            "min_width": null,
            "object_fit": null,
            "object_position": null,
            "order": null,
            "overflow": null,
            "overflow_x": null,
            "overflow_y": null,
            "padding": null,
            "right": null,
            "top": null,
            "visibility": null,
            "width": "20px"
          }
        },
        "eaa36fe51d91407ea47597209b7a2979": {
          "model_module": "@jupyter-widgets/controls",
          "model_name": "ProgressStyleModel",
          "model_module_version": "1.5.0",
          "state": {
            "_model_module": "@jupyter-widgets/controls",
            "_model_module_version": "1.5.0",
            "_model_name": "ProgressStyleModel",
            "_view_count": null,
            "_view_module": "@jupyter-widgets/base",
            "_view_module_version": "1.2.0",
            "_view_name": "StyleView",
            "bar_color": null,
            "description_width": ""
          }
        },
        "1fc6e1dc03f8443b812c1bf0b38807de": {
          "model_module": "@jupyter-widgets/base",
          "model_name": "LayoutModel",
          "model_module_version": "1.2.0",
          "state": {
            "_model_module": "@jupyter-widgets/base",
            "_model_module_version": "1.2.0",
            "_model_name": "LayoutModel",
            "_view_count": null,
            "_view_module": "@jupyter-widgets/base",
            "_view_module_version": "1.2.0",
            "_view_name": "LayoutView",
            "align_content": null,
            "align_items": null,
            "align_self": null,
            "border": null,
            "bottom": null,
            "display": null,
            "flex": null,
            "flex_flow": null,
            "grid_area": null,
            "grid_auto_columns": null,
            "grid_auto_flow": null,
            "grid_auto_rows": null,
            "grid_column": null,
            "grid_gap": null,
            "grid_row": null,
            "grid_template_areas": null,
            "grid_template_columns": null,
            "grid_template_rows": null,
            "height": null,
            "justify_content": null,
            "justify_items": null,
            "left": null,
            "margin": null,
            "max_height": null,
            "max_width": null,
            "min_height": null,
            "min_width": null,
            "object_fit": null,
            "object_position": null,
            "order": null,
            "overflow": null,
            "overflow_x": null,
            "overflow_y": null,
            "padding": null,
            "right": null,
            "top": null,
            "visibility": null,
            "width": null
          }
        },
        "a636aca705f44a10833686ac58bf9a6c": {
          "model_module": "@jupyter-widgets/controls",
          "model_name": "DescriptionStyleModel",
          "model_module_version": "1.5.0",
          "state": {
            "_model_module": "@jupyter-widgets/controls",
            "_model_module_version": "1.5.0",
            "_model_name": "DescriptionStyleModel",
            "_view_count": null,
            "_view_module": "@jupyter-widgets/base",
            "_view_module_version": "1.2.0",
            "_view_name": "StyleView",
            "description_width": ""
          }
        },
        "274ceea1158d46fca33def81f12ba6a3": {
          "model_module": "@jupyter-widgets/controls",
          "model_name": "HBoxModel",
          "model_module_version": "1.5.0",
          "state": {
            "_dom_classes": [],
            "_model_module": "@jupyter-widgets/controls",
            "_model_module_version": "1.5.0",
            "_model_name": "HBoxModel",
            "_view_count": null,
            "_view_module": "@jupyter-widgets/controls",
            "_view_module_version": "1.5.0",
            "_view_name": "HBoxView",
            "box_style": "",
            "children": [
              "IPY_MODEL_e5faaef9b4dc4754bc1f347128bef829",
              "IPY_MODEL_2cc7df9e740c44cb982dc6555e068147",
              "IPY_MODEL_92586ac3cd034aad93cd99fdcf89531a"
            ],
            "layout": "IPY_MODEL_c6bd526d62fb4578a093c668fd43f891"
          }
        },
        "e5faaef9b4dc4754bc1f347128bef829": {
          "model_module": "@jupyter-widgets/controls",
          "model_name": "HTMLModel",
          "model_module_version": "1.5.0",
          "state": {
            "_dom_classes": [],
            "_model_module": "@jupyter-widgets/controls",
            "_model_module_version": "1.5.0",
            "_model_name": "HTMLModel",
            "_view_count": null,
            "_view_module": "@jupyter-widgets/controls",
            "_view_module_version": "1.5.0",
            "_view_name": "HTMLView",
            "description": "",
            "description_tooltip": null,
            "layout": "IPY_MODEL_59a1f66779e042c894cb0c1f99afe169",
            "placeholder": "​",
            "style": "IPY_MODEL_c9e3b9d7bc65479d923004077603f74e",
            "value": "Generating test split: "
          }
        },
        "2cc7df9e740c44cb982dc6555e068147": {
          "model_module": "@jupyter-widgets/controls",
          "model_name": "FloatProgressModel",
          "model_module_version": "1.5.0",
          "state": {
            "_dom_classes": [],
            "_model_module": "@jupyter-widgets/controls",
            "_model_module_version": "1.5.0",
            "_model_name": "FloatProgressModel",
            "_view_count": null,
            "_view_module": "@jupyter-widgets/controls",
            "_view_module_version": "1.5.0",
            "_view_name": "ProgressView",
            "bar_style": "success",
            "description": "",
            "description_tooltip": null,
            "layout": "IPY_MODEL_2a1ef355af194747ba2bfaa52a345a41",
            "max": 1,
            "min": 0,
            "orientation": "horizontal",
            "style": "IPY_MODEL_6a497ee9dc3445a78eb44ab22cc83b83",
            "value": 1
          }
        },
        "92586ac3cd034aad93cd99fdcf89531a": {
          "model_module": "@jupyter-widgets/controls",
          "model_name": "HTMLModel",
          "model_module_version": "1.5.0",
          "state": {
            "_dom_classes": [],
            "_model_module": "@jupyter-widgets/controls",
            "_model_module_version": "1.5.0",
            "_model_name": "HTMLModel",
            "_view_count": null,
            "_view_module": "@jupyter-widgets/controls",
            "_view_module_version": "1.5.0",
            "_view_name": "HTMLView",
            "description": "",
            "description_tooltip": null,
            "layout": "IPY_MODEL_7b6261f242f2401fb0907095ad15e3ab",
            "placeholder": "​",
            "style": "IPY_MODEL_c6b5de991d224f73b38567d3b76b4a2a",
            "value": " 2000/0 [00:00&lt;00:00, 42728.82 examples/s]"
          }
        },
        "c6bd526d62fb4578a093c668fd43f891": {
          "model_module": "@jupyter-widgets/base",
          "model_name": "LayoutModel",
          "model_module_version": "1.2.0",
          "state": {
            "_model_module": "@jupyter-widgets/base",
            "_model_module_version": "1.2.0",
            "_model_name": "LayoutModel",
            "_view_count": null,
            "_view_module": "@jupyter-widgets/base",
            "_view_module_version": "1.2.0",
            "_view_name": "LayoutView",
            "align_content": null,
            "align_items": null,
            "align_self": null,
            "border": null,
            "bottom": null,
            "display": null,
            "flex": null,
            "flex_flow": null,
            "grid_area": null,
            "grid_auto_columns": null,
            "grid_auto_flow": null,
            "grid_auto_rows": null,
            "grid_column": null,
            "grid_gap": null,
            "grid_row": null,
            "grid_template_areas": null,
            "grid_template_columns": null,
            "grid_template_rows": null,
            "height": null,
            "justify_content": null,
            "justify_items": null,
            "left": null,
            "margin": null,
            "max_height": null,
            "max_width": null,
            "min_height": null,
            "min_width": null,
            "object_fit": null,
            "object_position": null,
            "order": null,
            "overflow": null,
            "overflow_x": null,
            "overflow_y": null,
            "padding": null,
            "right": null,
            "top": null,
            "visibility": null,
            "width": null
          }
        },
        "59a1f66779e042c894cb0c1f99afe169": {
          "model_module": "@jupyter-widgets/base",
          "model_name": "LayoutModel",
          "model_module_version": "1.2.0",
          "state": {
            "_model_module": "@jupyter-widgets/base",
            "_model_module_version": "1.2.0",
            "_model_name": "LayoutModel",
            "_view_count": null,
            "_view_module": "@jupyter-widgets/base",
            "_view_module_version": "1.2.0",
            "_view_name": "LayoutView",
            "align_content": null,
            "align_items": null,
            "align_self": null,
            "border": null,
            "bottom": null,
            "display": null,
            "flex": null,
            "flex_flow": null,
            "grid_area": null,
            "grid_auto_columns": null,
            "grid_auto_flow": null,
            "grid_auto_rows": null,
            "grid_column": null,
            "grid_gap": null,
            "grid_row": null,
            "grid_template_areas": null,
            "grid_template_columns": null,
            "grid_template_rows": null,
            "height": null,
            "justify_content": null,
            "justify_items": null,
            "left": null,
            "margin": null,
            "max_height": null,
            "max_width": null,
            "min_height": null,
            "min_width": null,
            "object_fit": null,
            "object_position": null,
            "order": null,
            "overflow": null,
            "overflow_x": null,
            "overflow_y": null,
            "padding": null,
            "right": null,
            "top": null,
            "visibility": null,
            "width": null
          }
        },
        "c9e3b9d7bc65479d923004077603f74e": {
          "model_module": "@jupyter-widgets/controls",
          "model_name": "DescriptionStyleModel",
          "model_module_version": "1.5.0",
          "state": {
            "_model_module": "@jupyter-widgets/controls",
            "_model_module_version": "1.5.0",
            "_model_name": "DescriptionStyleModel",
            "_view_count": null,
            "_view_module": "@jupyter-widgets/base",
            "_view_module_version": "1.2.0",
            "_view_name": "StyleView",
            "description_width": ""
          }
        },
        "2a1ef355af194747ba2bfaa52a345a41": {
          "model_module": "@jupyter-widgets/base",
          "model_name": "LayoutModel",
          "model_module_version": "1.2.0",
          "state": {
            "_model_module": "@jupyter-widgets/base",
            "_model_module_version": "1.2.0",
            "_model_name": "LayoutModel",
            "_view_count": null,
            "_view_module": "@jupyter-widgets/base",
            "_view_module_version": "1.2.0",
            "_view_name": "LayoutView",
            "align_content": null,
            "align_items": null,
            "align_self": null,
            "border": null,
            "bottom": null,
            "display": null,
            "flex": null,
            "flex_flow": null,
            "grid_area": null,
            "grid_auto_columns": null,
            "grid_auto_flow": null,
            "grid_auto_rows": null,
            "grid_column": null,
            "grid_gap": null,
            "grid_row": null,
            "grid_template_areas": null,
            "grid_template_columns": null,
            "grid_template_rows": null,
            "height": null,
            "justify_content": null,
            "justify_items": null,
            "left": null,
            "margin": null,
            "max_height": null,
            "max_width": null,
            "min_height": null,
            "min_width": null,
            "object_fit": null,
            "object_position": null,
            "order": null,
            "overflow": null,
            "overflow_x": null,
            "overflow_y": null,
            "padding": null,
            "right": null,
            "top": null,
            "visibility": null,
            "width": "20px"
          }
        },
        "6a497ee9dc3445a78eb44ab22cc83b83": {
          "model_module": "@jupyter-widgets/controls",
          "model_name": "ProgressStyleModel",
          "model_module_version": "1.5.0",
          "state": {
            "_model_module": "@jupyter-widgets/controls",
            "_model_module_version": "1.5.0",
            "_model_name": "ProgressStyleModel",
            "_view_count": null,
            "_view_module": "@jupyter-widgets/base",
            "_view_module_version": "1.2.0",
            "_view_name": "StyleView",
            "bar_color": null,
            "description_width": ""
          }
        },
        "7b6261f242f2401fb0907095ad15e3ab": {
          "model_module": "@jupyter-widgets/base",
          "model_name": "LayoutModel",
          "model_module_version": "1.2.0",
          "state": {
            "_model_module": "@jupyter-widgets/base",
            "_model_module_version": "1.2.0",
            "_model_name": "LayoutModel",
            "_view_count": null,
            "_view_module": "@jupyter-widgets/base",
            "_view_module_version": "1.2.0",
            "_view_name": "LayoutView",
            "align_content": null,
            "align_items": null,
            "align_self": null,
            "border": null,
            "bottom": null,
            "display": null,
            "flex": null,
            "flex_flow": null,
            "grid_area": null,
            "grid_auto_columns": null,
            "grid_auto_flow": null,
            "grid_auto_rows": null,
            "grid_column": null,
            "grid_gap": null,
            "grid_row": null,
            "grid_template_areas": null,
            "grid_template_columns": null,
            "grid_template_rows": null,
            "height": null,
            "justify_content": null,
            "justify_items": null,
            "left": null,
            "margin": null,
            "max_height": null,
            "max_width": null,
            "min_height": null,
            "min_width": null,
            "object_fit": null,
            "object_position": null,
            "order": null,
            "overflow": null,
            "overflow_x": null,
            "overflow_y": null,
            "padding": null,
            "right": null,
            "top": null,
            "visibility": null,
            "width": null
          }
        },
        "c6b5de991d224f73b38567d3b76b4a2a": {
          "model_module": "@jupyter-widgets/controls",
          "model_name": "DescriptionStyleModel",
          "model_module_version": "1.5.0",
          "state": {
            "_model_module": "@jupyter-widgets/controls",
            "_model_module_version": "1.5.0",
            "_model_name": "DescriptionStyleModel",
            "_view_count": null,
            "_view_module": "@jupyter-widgets/base",
            "_view_module_version": "1.2.0",
            "_view_name": "StyleView",
            "description_width": ""
          }
        }
      }
    }
  },
  "nbformat": 4,
  "nbformat_minor": 5
}